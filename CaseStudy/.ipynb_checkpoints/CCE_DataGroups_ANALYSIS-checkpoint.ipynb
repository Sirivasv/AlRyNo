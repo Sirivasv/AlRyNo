{
 "cells": [
  {
   "cell_type": "code",
   "execution_count": 1,
   "metadata": {},
   "outputs": [],
   "source": [
    "import os\n",
    "import numpy as np\n",
    "import music21 as m21\n",
    "import pandas as pd\n",
    "import json\n",
    "import matplotlib.pyplot as plt\n",
    "from scipy import stats\n",
    "import time\n",
    "from IPython.display import display\n",
    "\n",
    "np.random.seed(777)"
   ]
  },
  {
   "cell_type": "code",
   "execution_count": 2,
   "metadata": {},
   "outputs": [],
   "source": [
    "def replace_verbose_name(verbose_name):\n",
    "    verbose_name = verbose_name.replace(\"MIDI_Grammar_SOLO_LEN12\", \"GSOLO\")\n",
    "    verbose_name = verbose_name.replace(\"MIDI_Grammar_TRADE\", \"TRADE\")\n",
    "    return verbose_name"
   ]
  },
  {
   "cell_type": "code",
   "execution_count": 3,
   "metadata": {},
   "outputs": [],
   "source": [
    "all_similarities_store = {}\n",
    "with open('./CCEvaluation_groups.json') as json_file:\n",
    "    all_similarities_store = json.load(json_file)"
   ]
  },
  {
   "cell_type": "markdown",
   "metadata": {},
   "source": [
    "# Analysis 1 - 2D Plane"
   ]
  },
  {
   "cell_type": "markdown",
   "metadata": {},
   "source": [
    "## 2D Plane OPTION 1 \n",
    " * Y axis - Test Artists (Average of Charlie Parker & Miles Davis Grammars Len12)\n",
    " * X axis - Caleb Rascon Corpus\n",
    "\n",
    "## 2D Plane OPTION 2\n",
    " * Y axis - Test Artists (Average of Charlie Parker & Miles Davis Grammars Len12)\n",
    " * X axis - Caleb Rascon Grammar Len12"
   ]
  },
  {
   "cell_type": "markdown",
   "metadata": {},
   "source": [
    "### Axis Y values"
   ]
  },
  {
   "cell_type": "code",
   "execution_count": 4,
   "metadata": {},
   "outputs": [
    {
     "name": "stdout",
     "output_type": "stream",
     "text": [
      "MilesDavis_GSOLO , CalebRascon_CORPUS\n",
      "MilesDavis_GSOLO , CalebRascon_GSOLO\n",
      "MilesDavis_GSOLO , MilesDavis_GSOLO\n",
      "MilesDavis_GSOLO , CalebRascon_TRADE_Caleb\n",
      "MilesDavis_GSOLO , CalebRascon_TRADE_Miles\n",
      "CharlieParker_GSOLO , CalebRascon_CORPUS\n",
      "CharlieParker_GSOLO , CalebRascon_GSOLO\n",
      "CharlieParker_GSOLO , CharlieParker_GSOLO\n",
      "CharlieParker_GSOLO , CalebRascon_TRADE_Caleb\n",
      "CharlieParker_GSOLO , CalebRascon_TRADE_CharlieParker\n"
     ]
    }
   ],
   "source": [
    "axis_Y = {}\n",
    "for keyname_i in list(all_similarities_store.keys()):\n",
    "    directory_A = keyname_i.split(\":\")[0].split(\"/\")[1] + \"_\" + keyname_i.split(\":\")[0].split(\"/\")[2]\n",
    "    directory_B = keyname_i.split(\":\")[1].split(\"/\")[1] + \"_\" + keyname_i.split(\":\")[1].split(\"/\")[2]\n",
    "    \n",
    "    # We skip the Axis X options\n",
    "    if (directory_A == \"CalebRascon_CORPUS\") or (directory_A == \"CalebRascon_MIDI_Grammar_SOLO_LEN12\") :\n",
    "        continue\n",
    "    directory_A = replace_verbose_name(directory_A)\n",
    "    directory_B = replace_verbose_name(directory_B)\n",
    "    \n",
    "   \n",
    "    if (directory_B not in axis_Y):\n",
    "        axis_Y[directory_B] = []\n",
    "        \n",
    "    if (directory_B == \"MilesDavis_GSOLO\") or (directory_B == \"CalebRascon_TRADE_Miles\"):\n",
    "        if (directory_A != \"MilesDavis_GSOLO\"):\n",
    "            continue\n",
    "    \n",
    "    if (directory_B == \"CharlieParker_GSOLO\") or (directory_B == \"CalebRascon_TRADE_CharlieParker\"):\n",
    "        if (directory_A != \"CharlieParker_GSOLO\"):\n",
    "            continue\n",
    "    print(directory_A + \" , \" + directory_B)\n",
    "    \n",
    "    \n",
    "    current_sim_df = pd.DataFrame(all_similarities_store[keyname_i])\n",
    "    axis_Y[directory_B].append(current_sim_df.mean())\n",
    "    "
   ]
  },
  {
   "cell_type": "code",
   "execution_count": 5,
   "metadata": {},
   "outputs": [],
   "source": [
    "for keynameY_i in list(axis_Y.keys()):\n",
    "    axis_Y[keynameY_i] = pd.DataFrame(axis_Y[keynameY_i]).mean()"
   ]
  },
  {
   "cell_type": "markdown",
   "metadata": {},
   "source": [
    "### Axis X values"
   ]
  },
  {
   "cell_type": "code",
   "execution_count": 6,
   "metadata": {},
   "outputs": [
    {
     "name": "stdout",
     "output_type": "stream",
     "text": [
      "CalebRascon_CORPUS , CalebRascon_CORPUS\n",
      "CalebRascon_CORPUS , CalebRascon_GSOLO\n",
      "CalebRascon_CORPUS , MilesDavis_GSOLO\n",
      "CalebRascon_CORPUS , CharlieParker_GSOLO\n",
      "CalebRascon_CORPUS , CalebRascon_TRADE_Caleb\n",
      "CalebRascon_CORPUS , CalebRascon_TRADE_Miles\n",
      "CalebRascon_CORPUS , CalebRascon_TRADE_CharlieParker\n"
     ]
    }
   ],
   "source": [
    "axis_X = {}\n",
    "for keyname_i in list(all_similarities_store.keys()):\n",
    "    directory_A = keyname_i.split(\":\")[0].split(\"/\")[1] + \"_\" + keyname_i.split(\":\")[0].split(\"/\")[2]\n",
    "    directory_B = keyname_i.split(\":\")[1].split(\"/\")[1] + \"_\" + keyname_i.split(\":\")[1].split(\"/\")[2]\n",
    "    \n",
    "    # We skip the Axis X options\n",
    "    # OPTION 1\n",
    "    if not (directory_A == \"CalebRascon_CORPUS\"):\n",
    "        continue\n",
    "    \n",
    "    # OPTION 2\n",
    "    # if not (directory_A == \"CalebRascon_MIDI_Grammar_SOLO_LEN12\"):\n",
    "    #     continue\n",
    "    \n",
    "    directory_A = replace_verbose_name(directory_A)\n",
    "    directory_B = replace_verbose_name(directory_B)\n",
    "    \n",
    "    print(directory_A + \" , \" + directory_B)\n",
    "    \n",
    "    if (directory_B not in axis_X):\n",
    "        axis_X[directory_B] = []\n",
    "    \n",
    "    current_sim_df = pd.DataFrame(all_similarities_store[keyname_i])\n",
    "    axis_X[directory_B].append(current_sim_df.mean())\n",
    "    "
   ]
  },
  {
   "cell_type": "code",
   "execution_count": 7,
   "metadata": {},
   "outputs": [],
   "source": [
    "for keynameX_i in list(axis_X.keys()):\n",
    "    axis_X[keynameX_i] = pd.DataFrame(axis_X[keynameX_i]).mean()"
   ]
  },
  {
   "cell_type": "markdown",
   "metadata": {},
   "source": [
    "### Coordinate representation"
   ]
  },
  {
   "cell_type": "code",
   "execution_count": 8,
   "metadata": {},
   "outputs": [
    {
     "data": {
      "text/plain": [
       "Text(0, 0.5, 'Reference Artists Avg')"
      ]
     },
     "execution_count": 8,
     "metadata": {},
     "output_type": "execute_result"
    },
    {
     "data": {
      "image/png": "[encoded data removed]",
      "text/plain": [
       "<Figure size 720x576 with 1 Axes>"
      ]
     },
     "metadata": {
      "needs_background": "light"
     },
     "output_type": "display_data"
    }
   ],
   "source": [
    "markers_plt = ['o', 's', 's', '^', '^', '^', '>', 's', 'd', ',']\n",
    "# ['o', '.', ',', 'x', '+', 'v', '^', '<', '>', 's', 'd']\n",
    "marker_i = 0\n",
    "plt.figure(figsize=(10,8))\n",
    "plt.xlim(0.6, 0.9);\n",
    "plt.ylim(0.6, 0.9);\n",
    "\n",
    "for keyname_i in axis_X:\n",
    "    current_X_values = []\n",
    "    current_Y_values = []\n",
    "    if (\"CalebRascon_GSOLO\" == keyname_i) or (\"CalebRascon_TRADE_Caleb\" == keyname_i) :\n",
    "        continue\n",
    "    for i in range(len(axis_X[keyname_i])): \n",
    "        # print(axis_X[keyname_i][i], axis_Y[keyname_i][i])\n",
    "        current_X_values.append(axis_X[keyname_i][i])\n",
    "        current_Y_values.append(axis_Y[keyname_i][i])\n",
    "    \n",
    "    plt.plot(current_X_values, current_Y_values, markers_plt[marker_i], label=keyname_i)\n",
    "    marker_i += 1\n",
    "\n",
    "plt.plot([0.75, 0.75], [0.6, 0.9], 'k-', lw=1)\n",
    "plt.plot([0.6, 0.9], [0.75, 0.75], 'k-', lw=1)\n",
    "plt.legend(numpoints=1)\n",
    "plt.xlabel(\"CalebRascon_CORPUS\")\n",
    "plt.ylabel(\"Reference Artists Avg\")"
   ]
  },
  {
   "cell_type": "markdown",
   "metadata": {},
   "source": [
    "# Analysis 2 - Bar plot"
   ]
  },
  {
   "cell_type": "markdown",
   "metadata": {},
   "source": [
    "## Bar plot\n",
    " * Y axis - Average Similarity\n",
    " * X axis - Same Artist, Distinct Artists, Trade Between artists"
   ]
  },
  {
   "cell_type": "markdown",
   "metadata": {},
   "source": [
    "### Same Artist"
   ]
  },
  {
   "cell_type": "code",
   "execution_count": 9,
   "metadata": {},
   "outputs": [
    {
     "name": "stdout",
     "output_type": "stream",
     "text": [
      "CalebRascon_CORPUS , CalebRascon_CORPUS\n",
      "MilesDavis_GSOLO , MilesDavis_GSOLO\n",
      "CharlieParker_GSOLO , CharlieParker_GSOLO\n"
     ]
    },
    {
     "data": {
      "text/plain": [
       "[0.6862116345828623, 0.781862215612253, 0.7255175983436853]"
      ]
     },
     "execution_count": 9,
     "metadata": {},
     "output_type": "execute_result"
    }
   ],
   "source": [
    "same_artist = []\n",
    "for keyname_i in list(all_similarities_store.keys()):\n",
    "    directory_A = keyname_i.split(\":\")[0].split(\"/\")[1] + \"_\" + keyname_i.split(\":\")[0].split(\"/\")[2]\n",
    "    directory_B = keyname_i.split(\":\")[1].split(\"/\")[1] + \"_\" + keyname_i.split(\":\")[1].split(\"/\")[2]\n",
    "    \n",
    "    directory_A = replace_verbose_name(directory_A)\n",
    "    directory_B = replace_verbose_name(directory_B)\n",
    "    \n",
    "    # We skip non GSOLO \n",
    "    if \"GSOLO\" not in directory_A and \"CORPUS\" not in directory_A:\n",
    "        continue\n",
    "    if \"CalebRascon_GSOLO\" == directory_A:\n",
    "        continue\n",
    "    if \"GSOLO\" not in directory_B and \"CORPUS\" not in directory_B:\n",
    "        continue\n",
    "    if \"CalebRascon_GSOLO\" == directory_B:\n",
    "        continue\n",
    "        \n",
    "    if not (directory_A == directory_B):\n",
    "        continue\n",
    "    print(directory_A + \" , \" + directory_B)\n",
    "    \n",
    "    current_sim_df = pd.DataFrame(all_similarities_store[keyname_i])\n",
    "    same_artist.append(np.mean(current_sim_df.mean()))\n",
    "same_artist"
   ]
  },
  {
   "cell_type": "code",
   "execution_count": 10,
   "metadata": {},
   "outputs": [
    {
     "data": {
      "text/plain": [
       "0.7311971495129335"
      ]
     },
     "execution_count": 10,
     "metadata": {},
     "output_type": "execute_result"
    }
   ],
   "source": [
    "same_artist_avg = np.mean(same_artist)\n",
    "same_artist_avg"
   ]
  },
  {
   "cell_type": "markdown",
   "metadata": {},
   "source": [
    "### Different Artist"
   ]
  },
  {
   "cell_type": "code",
   "execution_count": 11,
   "metadata": {},
   "outputs": [
    {
     "name": "stdout",
     "output_type": "stream",
     "text": [
      "CalebRascon_CORPUS , MilesDavis_GSOLO\n",
      "CalebRascon_CORPUS , CharlieParker_GSOLO\n",
      "MilesDavis_GSOLO , CalebRascon_CORPUS\n",
      "MilesDavis_GSOLO , CharlieParker_GSOLO\n",
      "CharlieParker_GSOLO , CalebRascon_CORPUS\n",
      "CharlieParker_GSOLO , MilesDavis_GSOLO\n"
     ]
    },
    {
     "data": {
      "text/plain": [
       "{'MilesDavis_GSOLO': [0.7654472515259512, 0.8282969435379162],\n",
       " 'CharlieParker_GSOLO': [0.7895902726602801, 0.8282969435379162],\n",
       " 'CalebRascon_CORPUS': [0.7654472515259512, 0.78959027266028]}"
      ]
     },
     "execution_count": 11,
     "metadata": {},
     "output_type": "execute_result"
    }
   ],
   "source": [
    "diff_artist = {}\n",
    "for keyname_i in list(all_similarities_store.keys()):\n",
    "    directory_A = keyname_i.split(\":\")[0].split(\"/\")[1] + \"_\" + keyname_i.split(\":\")[0].split(\"/\")[2]\n",
    "    directory_B = keyname_i.split(\":\")[1].split(\"/\")[1] + \"_\" + keyname_i.split(\":\")[1].split(\"/\")[2]\n",
    "    \n",
    "    directory_A = replace_verbose_name(directory_A)\n",
    "    directory_B = replace_verbose_name(directory_B)\n",
    "    \n",
    "    # We skip non GSOLO \n",
    "    if \"GSOLO\" not in directory_A and \"CORPUS\" not in directory_A:\n",
    "        continue\n",
    "    if \"CalebRascon_GSOLO\" == directory_A:\n",
    "        continue\n",
    "    if \"GSOLO\" not in directory_B and \"CORPUS\" not in directory_B:\n",
    "        continue\n",
    "    if \"CalebRascon_GSOLO\" == directory_B:\n",
    "        continue\n",
    "        \n",
    "    if (directory_A == directory_B):\n",
    "        continue\n",
    "    print(directory_A + \" , \" + directory_B)\n",
    "    if (directory_B not in diff_artist):\n",
    "        diff_artist[directory_B] = []\n",
    "    current_sim_df = pd.DataFrame(all_similarities_store[keyname_i])\n",
    "    diff_artist[directory_B].append(np.mean(current_sim_df.mean()))\n",
    "diff_artist"
   ]
  },
  {
   "cell_type": "code",
   "execution_count": 12,
   "metadata": {},
   "outputs": [
    {
     "data": {
      "text/plain": [
       "[0.7968720975319337, 0.8089436080990982, 0.7775187620931157]"
      ]
     },
     "execution_count": 12,
     "metadata": {},
     "output_type": "execute_result"
    }
   ],
   "source": [
    "diff_artist_avg_list = []\n",
    "for keyname_diff in diff_artist:\n",
    "    diff_artist_avg_list.append(np.mean(diff_artist[keyname_diff]))\n",
    "diff_artist_avg_list"
   ]
  },
  {
   "cell_type": "code",
   "execution_count": 13,
   "metadata": {},
   "outputs": [
    {
     "data": {
      "text/plain": [
       "0.7944448225747158"
      ]
     },
     "execution_count": 13,
     "metadata": {},
     "output_type": "execute_result"
    }
   ],
   "source": [
    "diff_artist_avg = np.mean(diff_artist_avg_list)\n",
    "diff_artist_avg"
   ]
  },
  {
   "cell_type": "markdown",
   "metadata": {},
   "source": [
    "### Trades"
   ]
  },
  {
   "cell_type": "code",
   "execution_count": 14,
   "metadata": {},
   "outputs": [
    {
     "name": "stdout",
     "output_type": "stream",
     "text": [
      "CalebRascon_CORPUS , CalebRascon_TRADE_Miles\n",
      "CalebRascon_CORPUS , CalebRascon_TRADE_CharlieParker\n",
      "MilesDavis_GSOLO , CalebRascon_TRADE_Miles\n",
      "CharlieParker_GSOLO , CalebRascon_TRADE_CharlieParker\n"
     ]
    },
    {
     "data": {
      "text/plain": [
       "{'CalebRascon_TRADE_Miles': [0.7291504522500383, 0.7532848736554631],\n",
       " 'CalebRascon_TRADE_CharlieParker': [0.7283740448712199, 0.6947068606312036]}"
      ]
     },
     "execution_count": 14,
     "metadata": {},
     "output_type": "execute_result"
    }
   ],
   "source": [
    "trades_artists = {}\n",
    "for keyname_i in list(all_similarities_store.keys()):\n",
    "    directory_A = keyname_i.split(\":\")[0].split(\"/\")[1] + \"_\" + keyname_i.split(\":\")[0].split(\"/\")[2]\n",
    "    directory_B = keyname_i.split(\":\")[1].split(\"/\")[1] + \"_\" + keyname_i.split(\":\")[1].split(\"/\")[2]\n",
    "    \n",
    "    directory_A = replace_verbose_name(directory_A)\n",
    "    directory_B = replace_verbose_name(directory_B)\n",
    "    \n",
    "    # We skip non GSOLO in A\n",
    "    if \"GSOLO\" not in directory_A and \"CORPUS\" not in directory_A:\n",
    "        continue\n",
    "    if \"CalebRascon_GSOLO\" == directory_A:\n",
    "        continue\n",
    "    \n",
    "    # We skip non TRADE in B\n",
    "    if \"TRADE\" not in directory_B:\n",
    "        continue\n",
    "    if \"CalebRascon_TRADE_Caleb\" == directory_B:\n",
    "        continue\n",
    "    \n",
    "    trading_from = directory_B.split(\"_\")[0]\n",
    "    trading_with = directory_B.split(\"_\")[2]\n",
    "    if (trading_with not in directory_A) and (trading_from not in directory_A):\n",
    "        continue\n",
    "    \n",
    "    print(directory_A + \" , \" + directory_B)\n",
    "    if (directory_B not in trades_artists):\n",
    "        trades_artists[directory_B] = []\n",
    "    current_sim_df = pd.DataFrame(all_similarities_store[keyname_i])\n",
    "    trades_artists[directory_B].append(np.mean(current_sim_df.mean()))\n",
    "trades_artists"
   ]
  },
  {
   "cell_type": "code",
   "execution_count": 15,
   "metadata": {},
   "outputs": [
    {
     "data": {
      "text/plain": [
       "[0.7412176629527507, 0.7115404527512117]"
      ]
     },
     "execution_count": 15,
     "metadata": {},
     "output_type": "execute_result"
    }
   ],
   "source": [
    "trades_artists_avg_list = []\n",
    "for keyname_trade in trades_artists:\n",
    "    trades_artists_avg_list.append(np.mean(trades_artists[keyname_trade]))\n",
    "trades_artists_avg_list"
   ]
  },
  {
   "cell_type": "code",
   "execution_count": 16,
   "metadata": {},
   "outputs": [
    {
     "data": {
      "text/plain": [
       "0.7263790578519812"
      ]
     },
     "execution_count": 16,
     "metadata": {},
     "output_type": "execute_result"
    }
   ],
   "source": [
    "trades_artists_avg = np.mean(trades_artists_avg_list)\n",
    "trades_artists_avg"
   ]
  },
  {
   "cell_type": "code",
   "execution_count": 17,
   "metadata": {},
   "outputs": [
    {
     "data": {
      "text/plain": [
       "Text(0, 0.5, 'Similarity Avg')"
      ]
     },
     "execution_count": 17,
     "metadata": {},
     "output_type": "execute_result"
    },
    {
     "data": {
      "image/png": "[encoded data removed]",
      "text/plain": [
       "<Figure size 504x576 with 1 Axes>"
      ]
     },
     "metadata": {
      "needs_background": "light"
     },
     "output_type": "display_data"
    }
   ],
   "source": [
    "labels = ['Same Artist', 'Trading Artists', 'Distinct Artist']\n",
    "values = [same_artist_avg, trades_artists_avg, diff_artist_avg]\n",
    "fig, ax = plt.subplots(figsize=(7,8))\n",
    "\n",
    "ax.bar(labels,values)\n",
    "ax.set_ylim(0.5,1.0)\n",
    "ax.set_ylabel(\"Similarity Avg\")"
   ]
  },
  {
   "cell_type": "markdown",
   "metadata": {},
   "source": [
    "# Analysis 3 - 2D Plane For Comparison with Local Alignment"
   ]
  },
  {
   "cell_type": "code",
   "execution_count": 18,
   "metadata": {},
   "outputs": [],
   "source": [
    "all_similarities_store = {}\n",
    "with open('./CCEvaluation_groups_LA.json') as json_file:\n",
    "    all_similarities_store = json.load(json_file)"
   ]
  },
  {
   "cell_type": "markdown",
   "metadata": {},
   "source": [
    "### Axis Y values"
   ]
  },
  {
   "cell_type": "code",
   "execution_count": 19,
   "metadata": {},
   "outputs": [
    {
     "name": "stdout",
     "output_type": "stream",
     "text": [
      "MilesDavis_GSOLO , CalebRascon_CORPUS\n",
      "MilesDavis_GSOLO , CalebRascon_GSOLO\n",
      "MilesDavis_GSOLO , MilesDavis_GSOLO\n",
      "MilesDavis_GSOLO , CalebRascon_TRADE_Caleb\n",
      "MilesDavis_GSOLO , CalebRascon_TRADE_Miles\n",
      "CharlieParker_GSOLO , CalebRascon_CORPUS\n",
      "CharlieParker_GSOLO , CalebRascon_GSOLO\n",
      "CharlieParker_GSOLO , CharlieParker_GSOLO\n",
      "CharlieParker_GSOLO , CalebRascon_TRADE_Caleb\n",
      "CharlieParker_GSOLO , CalebRascon_TRADE_CharlieParker\n"
     ]
    }
   ],
   "source": [
    "axis_Y = {}\n",
    "for keyname_i in list(all_similarities_store.keys()):\n",
    "    directory_A = keyname_i.split(\":\")[0].split(\"/\")[1] + \"_\" + keyname_i.split(\":\")[0].split(\"/\")[2]\n",
    "    directory_B = keyname_i.split(\":\")[1].split(\"/\")[1] + \"_\" + keyname_i.split(\":\")[1].split(\"/\")[2]\n",
    "    \n",
    "    # We skip the Axis X options\n",
    "    if (directory_A == \"CalebRascon_CORPUS\") or (directory_A == \"CalebRascon_MIDI_Grammar_SOLO_LEN12\") :\n",
    "        continue\n",
    "    directory_A = replace_verbose_name(directory_A)\n",
    "    directory_B = replace_verbose_name(directory_B)\n",
    "    \n",
    "   \n",
    "    if (directory_B not in axis_Y):\n",
    "        axis_Y[directory_B] = []\n",
    "        \n",
    "    if (directory_B == \"MilesDavis_GSOLO\") or (directory_B == \"CalebRascon_TRADE_Miles\"):\n",
    "        if (directory_A != \"MilesDavis_GSOLO\"):\n",
    "            continue\n",
    "    \n",
    "    if (directory_B == \"CharlieParker_GSOLO\") or (directory_B == \"CalebRascon_TRADE_CharlieParker\"):\n",
    "        if (directory_A != \"CharlieParker_GSOLO\"):\n",
    "            continue\n",
    "    print(directory_A + \" , \" + directory_B)\n",
    "    \n",
    "    \n",
    "    current_sim_df = pd.DataFrame(all_similarities_store[keyname_i])\n",
    "    axis_Y[directory_B].append(current_sim_df.mean())\n",
    "    "
   ]
  },
  {
   "cell_type": "code",
   "execution_count": 20,
   "metadata": {},
   "outputs": [],
   "source": [
    "for keynameY_i in list(axis_Y.keys()):\n",
    "    axis_Y[keynameY_i] = pd.DataFrame(axis_Y[keynameY_i]).mean()"
   ]
  },
  {
   "cell_type": "markdown",
   "metadata": {},
   "source": [
    "### Axis X values"
   ]
  },
  {
   "cell_type": "code",
   "execution_count": 21,
   "metadata": {},
   "outputs": [
    {
     "name": "stdout",
     "output_type": "stream",
     "text": [
      "CalebRascon_CORPUS , CalebRascon_CORPUS\n",
      "CalebRascon_CORPUS , CalebRascon_GSOLO\n",
      "CalebRascon_CORPUS , MilesDavis_GSOLO\n",
      "CalebRascon_CORPUS , CharlieParker_GSOLO\n",
      "CalebRascon_CORPUS , CalebRascon_TRADE_Caleb\n",
      "CalebRascon_CORPUS , CalebRascon_TRADE_Miles\n",
      "CalebRascon_CORPUS , CalebRascon_TRADE_CharlieParker\n"
     ]
    }
   ],
   "source": [
    "axis_X = {}\n",
    "for keyname_i in list(all_similarities_store.keys()):\n",
    "    directory_A = keyname_i.split(\":\")[0].split(\"/\")[1] + \"_\" + keyname_i.split(\":\")[0].split(\"/\")[2]\n",
    "    directory_B = keyname_i.split(\":\")[1].split(\"/\")[1] + \"_\" + keyname_i.split(\":\")[1].split(\"/\")[2]\n",
    "    \n",
    "    # We skip the Axis X options\n",
    "    # OPTION 1\n",
    "    if not (directory_A == \"CalebRascon_CORPUS\"):\n",
    "        continue\n",
    "    \n",
    "    # OPTION 2\n",
    "    # if not (directory_A == \"CalebRascon_MIDI_Grammar_SOLO_LEN12\"):\n",
    "    #     continue\n",
    "    \n",
    "    directory_A = replace_verbose_name(directory_A)\n",
    "    directory_B = replace_verbose_name(directory_B)\n",
    "    \n",
    "    print(directory_A + \" , \" + directory_B)\n",
    "    \n",
    "    if (directory_B not in axis_X):\n",
    "        axis_X[directory_B] = []\n",
    "    \n",
    "    current_sim_df = pd.DataFrame(all_similarities_store[keyname_i])\n",
    "    axis_X[directory_B].append(current_sim_df.mean())\n",
    "    "
   ]
  },
  {
   "cell_type": "code",
   "execution_count": 22,
   "metadata": {},
   "outputs": [],
   "source": [
    "for keynameX_i in list(axis_X.keys()):\n",
    "    axis_X[keynameX_i] = pd.DataFrame(axis_X[keynameX_i]).mean()"
   ]
  },
  {
   "cell_type": "markdown",
   "metadata": {},
   "source": [
    "### Coordinate representation"
   ]
  },
  {
   "cell_type": "code",
   "execution_count": 23,
   "metadata": {},
   "outputs": [
    {
     "data": {
      "text/plain": [
       "Text(0, 0.5, 'Reference Artists Avg')"
      ]
     },
     "execution_count": 23,
     "metadata": {},
     "output_type": "execute_result"
    },
    {
     "data": {
      "image/png": "[encoded data removed]",
      "text/plain": [
       "<Figure size 720x576 with 1 Axes>"
      ]
     },
     "metadata": {
      "needs_background": "light"
     },
     "output_type": "display_data"
    }
   ],
   "source": [
    "markers_plt = ['o', 's', 's', '^', '^', '^', '>', 's', 'd', ',']\n",
    "# ['o', '.', ',', 'x', '+', 'v', '^', '<', '>', 's', 'd']\n",
    "marker_i = 0\n",
    "plt.figure(figsize=(10,8))\n",
    "plt.xlim(-8, -1);\n",
    "plt.ylim(-8, -1);\n",
    "\n",
    "for keyname_i in axis_X:\n",
    "    current_X_values = []\n",
    "    current_Y_values = []\n",
    "    if (\"CalebRascon_GSOLO\" == keyname_i) or (\"CalebRascon_TRADE_Caleb\" == keyname_i) :\n",
    "        continue\n",
    "    for i in range(len(axis_X[keyname_i])): \n",
    "        # print(axis_X[keyname_i][i], axis_Y[keyname_i][i])\n",
    "        current_X_values.append(axis_X[keyname_i][i])\n",
    "        current_Y_values.append(axis_Y[keyname_i][i])\n",
    "    \n",
    "    plt.plot(current_X_values, current_Y_values, markers_plt[marker_i], label=keyname_i)\n",
    "    marker_i += 1\n",
    "\n",
    "plt.plot([-4.5, -4.5], [-1, -8], 'k-', lw=1)\n",
    "plt.plot([-1, -8], [-4.5, -4.5], 'k-', lw=1)\n",
    "plt.legend(numpoints=1)\n",
    "plt.xlabel(\"CalebRascon_CORPUS\")\n",
    "plt.ylabel(\"Reference Artists Avg\")"
   ]
  },
  {
   "cell_type": "markdown",
   "metadata": {},
   "source": [
    "# Analysis 4 - 2D Plane For Comparison with Euclidean Distance"
   ]
  },
  {
   "cell_type": "code",
   "execution_count": 24,
   "metadata": {},
   "outputs": [],
   "source": [
    "all_similarities_store = {}\n",
    "with open('./CCEvaluation_groups_ED.json') as json_file:\n",
    "    all_similarities_store = json.load(json_file)"
   ]
  },
  {
   "cell_type": "markdown",
   "metadata": {},
   "source": [
    "### Axis Y values"
   ]
  },
  {
   "cell_type": "code",
   "execution_count": 25,
   "metadata": {},
   "outputs": [
    {
     "name": "stdout",
     "output_type": "stream",
     "text": [
      "MilesDavis_GSOLO , CalebRascon_CORPUS\n",
      "MilesDavis_GSOLO , CalebRascon_GSOLO\n",
      "MilesDavis_GSOLO , MilesDavis_GSOLO\n",
      "MilesDavis_GSOLO , CalebRascon_TRADE_Caleb\n",
      "MilesDavis_GSOLO , CalebRascon_TRADE_Miles\n",
      "CharlieParker_GSOLO , CalebRascon_CORPUS\n",
      "CharlieParker_GSOLO , CalebRascon_GSOLO\n",
      "CharlieParker_GSOLO , CharlieParker_GSOLO\n",
      "CharlieParker_GSOLO , CalebRascon_TRADE_Caleb\n",
      "CharlieParker_GSOLO , CalebRascon_TRADE_CharlieParker\n"
     ]
    }
   ],
   "source": [
    "axis_Y = {}\n",
    "for keyname_i in list(all_similarities_store.keys()):\n",
    "    directory_A = keyname_i.split(\":\")[0].split(\"/\")[1] + \"_\" + keyname_i.split(\":\")[0].split(\"/\")[2]\n",
    "    directory_B = keyname_i.split(\":\")[1].split(\"/\")[1] + \"_\" + keyname_i.split(\":\")[1].split(\"/\")[2]\n",
    "    \n",
    "    # We skip the Axis X options\n",
    "    if (directory_A == \"CalebRascon_CORPUS\") or (directory_A == \"CalebRascon_MIDI_Grammar_SOLO_LEN12\") :\n",
    "        continue\n",
    "    directory_A = replace_verbose_name(directory_A)\n",
    "    directory_B = replace_verbose_name(directory_B)\n",
    "    \n",
    "   \n",
    "    if (directory_B not in axis_Y):\n",
    "        axis_Y[directory_B] = []\n",
    "        \n",
    "    if (directory_B == \"MilesDavis_GSOLO\") or (directory_B == \"CalebRascon_TRADE_Miles\"):\n",
    "        if (directory_A != \"MilesDavis_GSOLO\"):\n",
    "            continue\n",
    "    \n",
    "    if (directory_B == \"CharlieParker_GSOLO\") or (directory_B == \"CalebRascon_TRADE_CharlieParker\"):\n",
    "        if (directory_A != \"CharlieParker_GSOLO\"):\n",
    "            continue\n",
    "    print(directory_A + \" , \" + directory_B)\n",
    "    \n",
    "    \n",
    "    current_sim_df = pd.DataFrame(all_similarities_store[keyname_i])\n",
    "    axis_Y[directory_B].append(current_sim_df.mean())\n",
    "    "
   ]
  },
  {
   "cell_type": "code",
   "execution_count": 26,
   "metadata": {},
   "outputs": [],
   "source": [
    "for keynameY_i in list(axis_Y.keys()):\n",
    "    axis_Y[keynameY_i] = pd.DataFrame(axis_Y[keynameY_i]).mean()"
   ]
  },
  {
   "cell_type": "markdown",
   "metadata": {},
   "source": [
    "### Axis X values"
   ]
  },
  {
   "cell_type": "code",
   "execution_count": 27,
   "metadata": {},
   "outputs": [
    {
     "name": "stdout",
     "output_type": "stream",
     "text": [
      "CalebRascon_CORPUS , CalebRascon_CORPUS\n",
      "CalebRascon_CORPUS , CalebRascon_GSOLO\n",
      "CalebRascon_CORPUS , MilesDavis_GSOLO\n",
      "CalebRascon_CORPUS , CharlieParker_GSOLO\n",
      "CalebRascon_CORPUS , CalebRascon_TRADE_Caleb\n",
      "CalebRascon_CORPUS , CalebRascon_TRADE_Miles\n",
      "CalebRascon_CORPUS , CalebRascon_TRADE_CharlieParker\n"
     ]
    }
   ],
   "source": [
    "axis_X = {}\n",
    "for keyname_i in list(all_similarities_store.keys()):\n",
    "    directory_A = keyname_i.split(\":\")[0].split(\"/\")[1] + \"_\" + keyname_i.split(\":\")[0].split(\"/\")[2]\n",
    "    directory_B = keyname_i.split(\":\")[1].split(\"/\")[1] + \"_\" + keyname_i.split(\":\")[1].split(\"/\")[2]\n",
    "    \n",
    "    # We skip the Axis X options\n",
    "    # OPTION 1\n",
    "    if not (directory_A == \"CalebRascon_CORPUS\"):\n",
    "        continue\n",
    "    \n",
    "    # OPTION 2\n",
    "    # if not (directory_A == \"CalebRascon_MIDI_Grammar_SOLO_LEN12\"):\n",
    "    #     continue\n",
    "    \n",
    "    directory_A = replace_verbose_name(directory_A)\n",
    "    directory_B = replace_verbose_name(directory_B)\n",
    "    \n",
    "    print(directory_A + \" , \" + directory_B)\n",
    "    \n",
    "    if (directory_B not in axis_X):\n",
    "        axis_X[directory_B] = []\n",
    "    \n",
    "    current_sim_df = pd.DataFrame(all_similarities_store[keyname_i])\n",
    "    axis_X[directory_B].append(current_sim_df.mean())\n",
    "    "
   ]
  },
  {
   "cell_type": "code",
   "execution_count": 28,
   "metadata": {},
   "outputs": [],
   "source": [
    "for keynameX_i in list(axis_X.keys()):\n",
    "    axis_X[keynameX_i] = pd.DataFrame(axis_X[keynameX_i]).mean()"
   ]
  },
  {
   "cell_type": "markdown",
   "metadata": {},
   "source": [
    "### Coordinate representation"
   ]
  },
  {
   "cell_type": "code",
   "execution_count": 29,
   "metadata": {},
   "outputs": [
    {
     "data": {
      "text/plain": [
       "Text(0, 0.5, 'Reference Artists Avg')"
      ]
     },
     "execution_count": 29,
     "metadata": {},
     "output_type": "execute_result"
    },
    {
     "data": {
      "image/png": "[encoded data removed]",
      "text/plain": [
       "<Figure size 720x576 with 1 Axes>"
      ]
     },
     "metadata": {
      "needs_background": "light"
     },
     "output_type": "display_data"
    }
   ],
   "source": [
    "markers_plt = ['o', 's', 's', '^', '^', '^', '>', 's', 'd', ',']\n",
    "# ['o', '.', ',', 'x', '+', 'v', '^', '<', '>', 's', 'd']\n",
    "marker_i = 0\n",
    "plt.figure(figsize=(10,8))\n",
    "plt.xlim(2, 7);\n",
    "plt.ylim(2, 7);\n",
    "\n",
    "for keyname_i in axis_X:\n",
    "    current_X_values = []\n",
    "    current_Y_values = []\n",
    "    if (\"CalebRascon_GSOLO\" == keyname_i) or (\"CalebRascon_TRADE_Caleb\" == keyname_i) :\n",
    "        continue\n",
    "    for i in range(len(axis_X[keyname_i])): \n",
    "        # print(axis_X[keyname_i][i], axis_Y[keyname_i][i])\n",
    "        current_X_values.append(axis_X[keyname_i][i])\n",
    "        current_Y_values.append(axis_Y[keyname_i][i])\n",
    "    \n",
    "    plt.plot(current_X_values, current_Y_values, markers_plt[marker_i], label=keyname_i)\n",
    "    marker_i += 1\n",
    "\n",
    "plt.plot([4.5, 4.5], [2, 7], 'k-', lw=1)\n",
    "plt.plot([2, 7], [4.5, 4.5], 'k-', lw=1)\n",
    "plt.legend(numpoints=1)\n",
    "plt.xlabel(\"CalebRascon_CORPUS\")\n",
    "plt.ylabel(\"Reference Artists Avg\")"
   ]
  },
  {
   "cell_type": "code",
   "execution_count": null,
   "metadata": {},
   "outputs": [],
   "source": []
  },
  {
   "cell_type": "markdown",
   "metadata": {},
   "source": [
    "# Analysis 3 - 2D Plane For Comparison with SIAM"
   ]
  },
  {
   "cell_type": "code",
   "execution_count": 30,
   "metadata": {},
   "outputs": [],
   "source": [
    "all_similarities_store = {}\n",
    "with open('./CCEvaluation_groups_SIAM.json') as json_file:\n",
    "    all_similarities_store = json.load(json_file)"
   ]
  },
  {
   "cell_type": "markdown",
   "metadata": {},
   "source": [
    "### Axis Y values"
   ]
  },
  {
   "cell_type": "code",
   "execution_count": 31,
   "metadata": {},
   "outputs": [
    {
     "name": "stdout",
     "output_type": "stream",
     "text": [
      "MilesDavis_GSOLO , CalebRascon_CORPUS\n",
      "MilesDavis_GSOLO , CalebRascon_GSOLO\n",
      "MilesDavis_GSOLO , MilesDavis_GSOLO\n",
      "MilesDavis_GSOLO , CalebRascon_TRADE_Caleb\n",
      "MilesDavis_GSOLO , CalebRascon_TRADE_Miles\n",
      "CharlieParker_GSOLO , CalebRascon_CORPUS\n",
      "CharlieParker_GSOLO , CalebRascon_GSOLO\n",
      "CharlieParker_GSOLO , CharlieParker_GSOLO\n",
      "CharlieParker_GSOLO , CalebRascon_TRADE_Caleb\n",
      "CharlieParker_GSOLO , CalebRascon_TRADE_CharlieParker\n"
     ]
    }
   ],
   "source": [
    "axis_Y = {}\n",
    "for keyname_i in list(all_similarities_store.keys()):\n",
    "    directory_A = keyname_i.split(\":\")[0].split(\"/\")[1] + \"_\" + keyname_i.split(\":\")[0].split(\"/\")[2]\n",
    "    directory_B = keyname_i.split(\":\")[1].split(\"/\")[1] + \"_\" + keyname_i.split(\":\")[1].split(\"/\")[2]\n",
    "    \n",
    "    # We skip the Axis X options\n",
    "    if (directory_A == \"CalebRascon_CORPUS\") or (directory_A == \"CalebRascon_MIDI_Grammar_SOLO_LEN12\") :\n",
    "        continue\n",
    "    directory_A = replace_verbose_name(directory_A)\n",
    "    directory_B = replace_verbose_name(directory_B)\n",
    "    \n",
    "   \n",
    "    if (directory_B not in axis_Y):\n",
    "        axis_Y[directory_B] = []\n",
    "        \n",
    "    if (directory_B == \"MilesDavis_GSOLO\") or (directory_B == \"CalebRascon_TRADE_Miles\"):\n",
    "        if (directory_A != \"MilesDavis_GSOLO\"):\n",
    "            continue\n",
    "    \n",
    "    if (directory_B == \"CharlieParker_GSOLO\") or (directory_B == \"CalebRascon_TRADE_CharlieParker\"):\n",
    "        if (directory_A != \"CharlieParker_GSOLO\"):\n",
    "            continue\n",
    "    print(directory_A + \" , \" + directory_B)\n",
    "    \n",
    "    \n",
    "    current_sim_df = pd.DataFrame(all_similarities_store[keyname_i])\n",
    "    axis_Y[directory_B].append(current_sim_df.mean())\n",
    "    "
   ]
  },
  {
   "cell_type": "code",
   "execution_count": 32,
   "metadata": {},
   "outputs": [],
   "source": [
    "for keynameY_i in list(axis_Y.keys()):\n",
    "    axis_Y[keynameY_i] = pd.DataFrame(axis_Y[keynameY_i]).mean()"
   ]
  },
  {
   "cell_type": "markdown",
   "metadata": {},
   "source": [
    "### Axis X values"
   ]
  },
  {
   "cell_type": "code",
   "execution_count": 33,
   "metadata": {},
   "outputs": [
    {
     "name": "stdout",
     "output_type": "stream",
     "text": [
      "CalebRascon_CORPUS , CalebRascon_CORPUS\n",
      "CalebRascon_CORPUS , CalebRascon_GSOLO\n",
      "CalebRascon_CORPUS , MilesDavis_GSOLO\n",
      "CalebRascon_CORPUS , CharlieParker_GSOLO\n",
      "CalebRascon_CORPUS , CalebRascon_TRADE_Caleb\n",
      "CalebRascon_CORPUS , CalebRascon_TRADE_Miles\n",
      "CalebRascon_CORPUS , CalebRascon_TRADE_CharlieParker\n"
     ]
    }
   ],
   "source": [
    "axis_X = {}\n",
    "for keyname_i in list(all_similarities_store.keys()):\n",
    "    directory_A = keyname_i.split(\":\")[0].split(\"/\")[1] + \"_\" + keyname_i.split(\":\")[0].split(\"/\")[2]\n",
    "    directory_B = keyname_i.split(\":\")[1].split(\"/\")[1] + \"_\" + keyname_i.split(\":\")[1].split(\"/\")[2]\n",
    "    \n",
    "    # We skip the Axis X options\n",
    "    # OPTION 1\n",
    "    if not (directory_A == \"CalebRascon_CORPUS\"):\n",
    "        continue\n",
    "    \n",
    "    # OPTION 2\n",
    "    # if not (directory_A == \"CalebRascon_MIDI_Grammar_SOLO_LEN12\"):\n",
    "    #     continue\n",
    "    \n",
    "    directory_A = replace_verbose_name(directory_A)\n",
    "    directory_B = replace_verbose_name(directory_B)\n",
    "    \n",
    "    print(directory_A + \" , \" + directory_B)\n",
    "    \n",
    "    if (directory_B not in axis_X):\n",
    "        axis_X[directory_B] = []\n",
    "    \n",
    "    current_sim_df = pd.DataFrame(all_similarities_store[keyname_i])\n",
    "    axis_X[directory_B].append(current_sim_df.mean())\n",
    "    "
   ]
  },
  {
   "cell_type": "code",
   "execution_count": 34,
   "metadata": {},
   "outputs": [],
   "source": [
    "for keynameX_i in list(axis_X.keys()):\n",
    "    axis_X[keynameX_i] = pd.DataFrame(axis_X[keynameX_i]).mean()"
   ]
  },
  {
   "cell_type": "markdown",
   "metadata": {},
   "source": [
    "### Coordinate representation"
   ]
  },
  {
   "cell_type": "code",
   "execution_count": 35,
   "metadata": {},
   "outputs": [
    {
     "data": {
      "text/plain": [
       "Text(0, 0.5, 'Reference Artists Avg')"
      ]
     },
     "execution_count": 35,
     "metadata": {},
     "output_type": "execute_result"
    },
    {
     "data": {
      "image/png": "[encoded data removed]",
      "text/plain": [
       "<Figure size 720x576 with 1 Axes>"
      ]
     },
     "metadata": {
      "needs_background": "light"
     },
     "output_type": "display_data"
    }
   ],
   "source": [
    "markers_plt = ['o', 's', 's', '^', '^', '^', '>', 's', 'd', ',']\n",
    "# ['o', '.', ',', 'x', '+', 'v', '^', '<', '>', 's', 'd']\n",
    "marker_i = 0\n",
    "plt.figure(figsize=(10,8))\n",
    "plt.xlim(-0.17, -0.05);\n",
    "plt.ylim(-0.17, -0.05);\n",
    "\n",
    "for keyname_i in axis_X:\n",
    "    current_X_values = []\n",
    "    current_Y_values = []\n",
    "    if (\"CalebRascon_GSOLO\" == keyname_i) or (\"CalebRascon_TRADE_Caleb\" == keyname_i) :\n",
    "        continue\n",
    "    for i in range(len(axis_X[keyname_i])): \n",
    "        # print(axis_X[keyname_i][i], axis_Y[keyname_i][i])\n",
    "        current_X_values.append(axis_X[keyname_i][i])\n",
    "        current_Y_values.append(axis_Y[keyname_i][i])\n",
    "    \n",
    "    plt.plot(current_X_values, current_Y_values, markers_plt[marker_i], label=keyname_i)\n",
    "    marker_i += 1\n",
    "\n",
    "plt.plot([-0.11, -0.11], [-0.17, -0.05], 'k-', lw=1)\n",
    "plt.plot([-0.17, -0.05], [-0.11, -0.11], 'k-', lw=1)\n",
    "plt.legend(numpoints=1)\n",
    "plt.xlabel(\"CalebRascon_CORPUS\")\n",
    "plt.ylabel(\"Reference Artists Avg\")"
   ]
  },
  {
   "cell_type": "markdown",
   "metadata": {},
   "source": [
    "# Analysis 3 - 2D Plane For Comparison with BSPLINE"
   ]
  },
  {
   "cell_type": "code",
   "execution_count": 36,
   "metadata": {},
   "outputs": [],
   "source": [
    "all_similarities_store = {}\n",
    "with open('./CCEvaluation_groups_BSPLINE.json') as json_file:\n",
    "    all_similarities_store = json.load(json_file)"
   ]
  },
  {
   "cell_type": "markdown",
   "metadata": {},
   "source": [
    "### Axis Y values"
   ]
  },
  {
   "cell_type": "code",
   "execution_count": 37,
   "metadata": {},
   "outputs": [
    {
     "name": "stdout",
     "output_type": "stream",
     "text": [
      "MilesDavis_GSOLO , CalebRascon_CORPUS\n",
      "MilesDavis_GSOLO , CalebRascon_GSOLO\n",
      "MilesDavis_GSOLO , MilesDavis_GSOLO\n",
      "MilesDavis_GSOLO , CalebRascon_TRADE_Caleb\n",
      "MilesDavis_GSOLO , CalebRascon_TRADE_Miles\n",
      "CharlieParker_GSOLO , CalebRascon_CORPUS\n",
      "CharlieParker_GSOLO , CalebRascon_GSOLO\n",
      "CharlieParker_GSOLO , CharlieParker_GSOLO\n",
      "CharlieParker_GSOLO , CalebRascon_TRADE_Caleb\n",
      "CharlieParker_GSOLO , CalebRascon_TRADE_CharlieParker\n"
     ]
    }
   ],
   "source": [
    "axis_Y = {}\n",
    "for keyname_i in list(all_similarities_store.keys()):\n",
    "    directory_A = keyname_i.split(\":\")[0].split(\"/\")[1] + \"_\" + keyname_i.split(\":\")[0].split(\"/\")[2]\n",
    "    directory_B = keyname_i.split(\":\")[1].split(\"/\")[1] + \"_\" + keyname_i.split(\":\")[1].split(\"/\")[2]\n",
    "    \n",
    "    # We skip the Axis X options\n",
    "    if (directory_A == \"CalebRascon_CORPUS\") or (directory_A == \"CalebRascon_MIDI_Grammar_SOLO_LEN12\") :\n",
    "        continue\n",
    "    directory_A = replace_verbose_name(directory_A)\n",
    "    directory_B = replace_verbose_name(directory_B)\n",
    "    \n",
    "   \n",
    "    if (directory_B not in axis_Y):\n",
    "        axis_Y[directory_B] = []\n",
    "        \n",
    "    if (directory_B == \"MilesDavis_GSOLO\") or (directory_B == \"CalebRascon_TRADE_Miles\"):\n",
    "        if (directory_A != \"MilesDavis_GSOLO\"):\n",
    "            continue\n",
    "    \n",
    "    if (directory_B == \"CharlieParker_GSOLO\") or (directory_B == \"CalebRascon_TRADE_CharlieParker\"):\n",
    "        if (directory_A != \"CharlieParker_GSOLO\"):\n",
    "            continue\n",
    "    print(directory_A + \" , \" + directory_B)\n",
    "    \n",
    "    \n",
    "    current_sim_df = pd.DataFrame(all_similarities_store[keyname_i])\n",
    "    axis_Y[directory_B].append(current_sim_df.mean())\n",
    "    "
   ]
  },
  {
   "cell_type": "code",
   "execution_count": 38,
   "metadata": {},
   "outputs": [],
   "source": [
    "for keynameY_i in list(axis_Y.keys()):\n",
    "    axis_Y[keynameY_i] = pd.DataFrame(axis_Y[keynameY_i]).mean()"
   ]
  },
  {
   "cell_type": "markdown",
   "metadata": {},
   "source": [
    "### Axis X values"
   ]
  },
  {
   "cell_type": "code",
   "execution_count": 39,
   "metadata": {},
   "outputs": [
    {
     "name": "stdout",
     "output_type": "stream",
     "text": [
      "CalebRascon_CORPUS , CalebRascon_CORPUS\n",
      "CalebRascon_CORPUS , CalebRascon_GSOLO\n",
      "CalebRascon_CORPUS , MilesDavis_GSOLO\n",
      "CalebRascon_CORPUS , CharlieParker_GSOLO\n",
      "CalebRascon_CORPUS , CalebRascon_TRADE_Caleb\n",
      "CalebRascon_CORPUS , CalebRascon_TRADE_Miles\n",
      "CalebRascon_CORPUS , CalebRascon_TRADE_CharlieParker\n"
     ]
    }
   ],
   "source": [
    "axis_X = {}\n",
    "for keyname_i in list(all_similarities_store.keys()):\n",
    "    directory_A = keyname_i.split(\":\")[0].split(\"/\")[1] + \"_\" + keyname_i.split(\":\")[0].split(\"/\")[2]\n",
    "    directory_B = keyname_i.split(\":\")[1].split(\"/\")[1] + \"_\" + keyname_i.split(\":\")[1].split(\"/\")[2]\n",
    "    \n",
    "    # We skip the Axis X options\n",
    "    # OPTION 1\n",
    "    if not (directory_A == \"CalebRascon_CORPUS\"):\n",
    "        continue\n",
    "    \n",
    "    # OPTION 2\n",
    "    # if not (directory_A == \"CalebRascon_MIDI_Grammar_SOLO_LEN12\"):\n",
    "    #     continue\n",
    "    \n",
    "    directory_A = replace_verbose_name(directory_A)\n",
    "    directory_B = replace_verbose_name(directory_B)\n",
    "    \n",
    "    print(directory_A + \" , \" + directory_B)\n",
    "    \n",
    "    if (directory_B not in axis_X):\n",
    "        axis_X[directory_B] = []\n",
    "    \n",
    "    current_sim_df = pd.DataFrame(all_similarities_store[keyname_i])\n",
    "    axis_X[directory_B].append(current_sim_df.mean())\n",
    "    "
   ]
  },
  {
   "cell_type": "code",
   "execution_count": 40,
   "metadata": {},
   "outputs": [],
   "source": [
    "for keynameX_i in list(axis_X.keys()):\n",
    "    axis_X[keynameX_i] = pd.DataFrame(axis_X[keynameX_i]).mean()"
   ]
  },
  {
   "cell_type": "markdown",
   "metadata": {},
   "source": [
    "### Coordinate representation"
   ]
  },
  {
   "cell_type": "code",
   "execution_count": 41,
   "metadata": {},
   "outputs": [
    {
     "data": {
      "text/plain": [
       "Text(0, 0.5, 'Reference Artists Avg')"
      ]
     },
     "execution_count": 41,
     "metadata": {},
     "output_type": "execute_result"
    },
    {
     "data": {
      "image/png": "[encoded data removed]",
      "text/plain": [
       "<Figure size 720x576 with 1 Axes>"
      ]
     },
     "metadata": {
      "needs_background": "light"
     },
     "output_type": "display_data"
    }
   ],
   "source": [
    "markers_plt = ['o', 's', 's', '^', '^', '^', '>', 's', 'd', ',']\n",
    "# ['o', '.', ',', 'x', '+', 'v', '^', '<', '>', 's', 'd']\n",
    "marker_i = 0\n",
    "plt.figure(figsize=(10,8))\n",
    "plt.xlim(-0.2, 0.0);\n",
    "plt.ylim(-0.2, 0.0);\n",
    "\n",
    "for keyname_i in axis_X:\n",
    "    current_X_values = []\n",
    "    current_Y_values = []\n",
    "    if (\"CalebRascon_GSOLO\" == keyname_i) or (\"CalebRascon_TRADE_Caleb\" == keyname_i) :\n",
    "        continue\n",
    "    for i in range(len(axis_X[keyname_i])): \n",
    "        # print(axis_X[keyname_i][i], axis_Y[keyname_i][i])\n",
    "        current_X_values.append(-axis_X[keyname_i][i])\n",
    "        current_Y_values.append(-axis_Y[keyname_i][i])\n",
    "    \n",
    "    plt.plot(current_X_values, current_Y_values, markers_plt[marker_i], label=keyname_i)\n",
    "    marker_i += 1\n",
    "\n",
    "plt.plot([-0.1, -0.1], [-0.2, 0.0], 'k-', lw=1)\n",
    "plt.plot([-0.2, 0.0], [-0.1, -0.1], 'k-', lw=1)\n",
    "plt.legend(numpoints=1)\n",
    "plt.xlabel(\"CalebRascon_CORPUS\")\n",
    "plt.ylabel(\"Reference Artists Avg\")"
   ]
  },
  {
   "cell_type": "markdown",
   "metadata": {},
   "source": [
    "# Analysis 3 - 2D Plane For Comparison with CORR"
   ]
  },
  {
   "cell_type": "code",
   "execution_count": 42,
   "metadata": {},
   "outputs": [],
   "source": [
    "all_similarities_store = {}\n",
    "with open('./CCEvaluation_groups_CORR.json') as json_file:\n",
    "    all_similarities_store = json.load(json_file)"
   ]
  },
  {
   "cell_type": "markdown",
   "metadata": {},
   "source": [
    "### Axis Y values"
   ]
  },
  {
   "cell_type": "code",
   "execution_count": 43,
   "metadata": {},
   "outputs": [
    {
     "name": "stdout",
     "output_type": "stream",
     "text": [
      "MilesDavis_GSOLO , CalebRascon_CORPUS\n",
      "MilesDavis_GSOLO , CalebRascon_GSOLO\n",
      "MilesDavis_GSOLO , MilesDavis_GSOLO\n",
      "MilesDavis_GSOLO , CalebRascon_TRADE_Caleb\n",
      "MilesDavis_GSOLO , CalebRascon_TRADE_Miles\n",
      "CharlieParker_GSOLO , CalebRascon_CORPUS\n",
      "CharlieParker_GSOLO , CalebRascon_GSOLO\n",
      "CharlieParker_GSOLO , CharlieParker_GSOLO\n",
      "CharlieParker_GSOLO , CalebRascon_TRADE_Caleb\n",
      "CharlieParker_GSOLO , CalebRascon_TRADE_CharlieParker\n"
     ]
    }
   ],
   "source": [
    "axis_Y = {}\n",
    "for keyname_i in list(all_similarities_store.keys()):\n",
    "    directory_A = keyname_i.split(\":\")[0].split(\"/\")[1] + \"_\" + keyname_i.split(\":\")[0].split(\"/\")[2]\n",
    "    directory_B = keyname_i.split(\":\")[1].split(\"/\")[1] + \"_\" + keyname_i.split(\":\")[1].split(\"/\")[2]\n",
    "    \n",
    "    # We skip the Axis X options\n",
    "    if (directory_A == \"CalebRascon_CORPUS\") or (directory_A == \"CalebRascon_MIDI_Grammar_SOLO_LEN12\") :\n",
    "        continue\n",
    "    directory_A = replace_verbose_name(directory_A)\n",
    "    directory_B = replace_verbose_name(directory_B)\n",
    "    \n",
    "   \n",
    "    if (directory_B not in axis_Y):\n",
    "        axis_Y[directory_B] = []\n",
    "        \n",
    "    if (directory_B == \"MilesDavis_GSOLO\") or (directory_B == \"CalebRascon_TRADE_Miles\"):\n",
    "        if (directory_A != \"MilesDavis_GSOLO\"):\n",
    "            continue\n",
    "    \n",
    "    if (directory_B == \"CharlieParker_GSOLO\") or (directory_B == \"CalebRascon_TRADE_CharlieParker\"):\n",
    "        if (directory_A != \"CharlieParker_GSOLO\"):\n",
    "            continue\n",
    "    print(directory_A + \" , \" + directory_B)\n",
    "    \n",
    "    \n",
    "    current_sim_df = pd.DataFrame(all_similarities_store[keyname_i])\n",
    "    axis_Y[directory_B].append(current_sim_df.mean())\n",
    "    "
   ]
  },
  {
   "cell_type": "code",
   "execution_count": 44,
   "metadata": {},
   "outputs": [],
   "source": [
    "for keynameY_i in list(axis_Y.keys()):\n",
    "    axis_Y[keynameY_i] = pd.DataFrame(axis_Y[keynameY_i]).mean()"
   ]
  },
  {
   "cell_type": "markdown",
   "metadata": {},
   "source": [
    "### Axis X values"
   ]
  },
  {
   "cell_type": "code",
   "execution_count": 45,
   "metadata": {},
   "outputs": [
    {
     "name": "stdout",
     "output_type": "stream",
     "text": [
      "CalebRascon_CORPUS , CalebRascon_CORPUS\n",
      "CalebRascon_CORPUS , CalebRascon_GSOLO\n",
      "CalebRascon_CORPUS , MilesDavis_GSOLO\n",
      "CalebRascon_CORPUS , CharlieParker_GSOLO\n",
      "CalebRascon_CORPUS , CalebRascon_TRADE_Caleb\n",
      "CalebRascon_CORPUS , CalebRascon_TRADE_Miles\n",
      "CalebRascon_CORPUS , CalebRascon_TRADE_CharlieParker\n"
     ]
    }
   ],
   "source": [
    "axis_X = {}\n",
    "for keyname_i in list(all_similarities_store.keys()):\n",
    "    directory_A = keyname_i.split(\":\")[0].split(\"/\")[1] + \"_\" + keyname_i.split(\":\")[0].split(\"/\")[2]\n",
    "    directory_B = keyname_i.split(\":\")[1].split(\"/\")[1] + \"_\" + keyname_i.split(\":\")[1].split(\"/\")[2]\n",
    "    \n",
    "    # We skip the Axis X options\n",
    "    # OPTION 1\n",
    "    if not (directory_A == \"CalebRascon_CORPUS\"):\n",
    "        continue\n",
    "    \n",
    "    # OPTION 2\n",
    "    # if not (directory_A == \"CalebRascon_MIDI_Grammar_SOLO_LEN12\"):\n",
    "    #     continue\n",
    "    \n",
    "    directory_A = replace_verbose_name(directory_A)\n",
    "    directory_B = replace_verbose_name(directory_B)\n",
    "    \n",
    "    print(directory_A + \" , \" + directory_B)\n",
    "    \n",
    "    if (directory_B not in axis_X):\n",
    "        axis_X[directory_B] = []\n",
    "    \n",
    "    current_sim_df = pd.DataFrame(all_similarities_store[keyname_i])\n",
    "    axis_X[directory_B].append(current_sim_df.mean())\n",
    "    "
   ]
  },
  {
   "cell_type": "code",
   "execution_count": 46,
   "metadata": {},
   "outputs": [],
   "source": [
    "for keynameX_i in list(axis_X.keys()):\n",
    "    axis_X[keynameX_i] = pd.DataFrame(axis_X[keynameX_i]).mean()"
   ]
  },
  {
   "cell_type": "markdown",
   "metadata": {},
   "source": [
    "### Coordinate representation"
   ]
  },
  {
   "cell_type": "code",
   "execution_count": 47,
   "metadata": {},
   "outputs": [
    {
     "data": {
      "text/plain": [
       "Text(0, 0.5, 'Reference Artists Avg')"
      ]
     },
     "execution_count": 47,
     "metadata": {},
     "output_type": "execute_result"
    },
    {
     "data": {
      "image/png": "[encoded data removed]",
      "text/plain": [
       "<Figure size 720x576 with 1 Axes>"
      ]
     },
     "metadata": {
      "needs_background": "light"
     },
     "output_type": "display_data"
    }
   ],
   "source": [
    "markers_plt = ['o', 's', 's', '^', '^', '^', '>', 's', 'd', ',']\n",
    "# ['o', '.', ',', 'x', '+', 'v', '^', '<', '>', 's', 'd']\n",
    "marker_i = 0\n",
    "plt.figure(figsize=(10,8))\n",
    "plt.xlim(0.007, 0.03);\n",
    "plt.ylim(0.007, 0.03);\n",
    "\n",
    "for keyname_i in axis_X:\n",
    "    current_X_values = []\n",
    "    current_Y_values = []\n",
    "    if (\"CalebRascon_GSOLO\" == keyname_i) or (\"CalebRascon_TRADE_Caleb\" == keyname_i) :\n",
    "        continue\n",
    "    for i in range(len(axis_X[keyname_i])): \n",
    "        # print(axis_X[keyname_i][i], axis_Y[keyname_i][i])\n",
    "        current_X_values.append(axis_X[keyname_i][i])\n",
    "        current_Y_values.append(axis_Y[keyname_i][i])\n",
    "    \n",
    "    plt.plot(current_X_values, current_Y_values, markers_plt[marker_i], label=keyname_i)\n",
    "    marker_i += 1\n",
    "\n",
    "plt.plot([0.0185, 0.0185], [0.007, 0.03], 'k-', lw=1)\n",
    "plt.plot([0.007, 0.03], [0.0185, 0.0185], 'k-', lw=1)\n",
    "plt.legend(numpoints=1)\n",
    "plt.xlabel(\"CalebRascon_CORPUS\")\n",
    "plt.ylabel(\"Reference Artists Avg\")"
   ]
  },
  {
   "cell_type": "markdown",
   "metadata": {},
   "source": [
    "# Analysis 3 - 2D Plane For Comparison with CBD"
   ]
  },
  {
   "cell_type": "code",
   "execution_count": 48,
   "metadata": {},
   "outputs": [],
   "source": [
    "all_similarities_store = {}\n",
    "with open('./CCEvaluation_groups_CBD.json') as json_file:\n",
    "    all_similarities_store = json.load(json_file)"
   ]
  },
  {
   "cell_type": "markdown",
   "metadata": {},
   "source": [
    "### Axis Y values"
   ]
  },
  {
   "cell_type": "code",
   "execution_count": 49,
   "metadata": {},
   "outputs": [
    {
     "name": "stdout",
     "output_type": "stream",
     "text": [
      "MilesDavis_GSOLO , CalebRascon_CORPUS\n",
      "MilesDavis_GSOLO , CalebRascon_GSOLO\n",
      "MilesDavis_GSOLO , MilesDavis_GSOLO\n",
      "MilesDavis_GSOLO , CalebRascon_TRADE_Caleb\n",
      "MilesDavis_GSOLO , CalebRascon_TRADE_Miles\n",
      "CharlieParker_GSOLO , CalebRascon_CORPUS\n",
      "CharlieParker_GSOLO , CalebRascon_GSOLO\n",
      "CharlieParker_GSOLO , CharlieParker_GSOLO\n",
      "CharlieParker_GSOLO , CalebRascon_TRADE_Caleb\n",
      "CharlieParker_GSOLO , CalebRascon_TRADE_CharlieParker\n"
     ]
    }
   ],
   "source": [
    "axis_Y = {}\n",
    "for keyname_i in list(all_similarities_store.keys()):\n",
    "    directory_A = keyname_i.split(\":\")[0].split(\"/\")[1] + \"_\" + keyname_i.split(\":\")[0].split(\"/\")[2]\n",
    "    directory_B = keyname_i.split(\":\")[1].split(\"/\")[1] + \"_\" + keyname_i.split(\":\")[1].split(\"/\")[2]\n",
    "    \n",
    "    # We skip the Axis X options\n",
    "    if (directory_A == \"CalebRascon_CORPUS\") or (directory_A == \"CalebRascon_MIDI_Grammar_SOLO_LEN12\") :\n",
    "        continue\n",
    "    directory_A = replace_verbose_name(directory_A)\n",
    "    directory_B = replace_verbose_name(directory_B)\n",
    "    \n",
    "   \n",
    "    if (directory_B not in axis_Y):\n",
    "        axis_Y[directory_B] = []\n",
    "        \n",
    "    if (directory_B == \"MilesDavis_GSOLO\") or (directory_B == \"CalebRascon_TRADE_Miles\"):\n",
    "        if (directory_A != \"MilesDavis_GSOLO\"):\n",
    "            continue\n",
    "    \n",
    "    if (directory_B == \"CharlieParker_GSOLO\") or (directory_B == \"CalebRascon_TRADE_CharlieParker\"):\n",
    "        if (directory_A != \"CharlieParker_GSOLO\"):\n",
    "            continue\n",
    "    print(directory_A + \" , \" + directory_B)\n",
    "    \n",
    "    \n",
    "    current_sim_df = pd.DataFrame(all_similarities_store[keyname_i])\n",
    "    axis_Y[directory_B].append(current_sim_df.mean())\n",
    "    "
   ]
  },
  {
   "cell_type": "code",
   "execution_count": 50,
   "metadata": {},
   "outputs": [],
   "source": [
    "for keynameY_i in list(axis_Y.keys()):\n",
    "    axis_Y[keynameY_i] = pd.DataFrame(axis_Y[keynameY_i]).mean()"
   ]
  },
  {
   "cell_type": "markdown",
   "metadata": {},
   "source": [
    "### Axis X values"
   ]
  },
  {
   "cell_type": "code",
   "execution_count": 51,
   "metadata": {},
   "outputs": [
    {
     "name": "stdout",
     "output_type": "stream",
     "text": [
      "CalebRascon_CORPUS , CalebRascon_CORPUS\n",
      "CalebRascon_CORPUS , CalebRascon_GSOLO\n",
      "CalebRascon_CORPUS , MilesDavis_GSOLO\n",
      "CalebRascon_CORPUS , CharlieParker_GSOLO\n",
      "CalebRascon_CORPUS , CalebRascon_TRADE_Caleb\n",
      "CalebRascon_CORPUS , CalebRascon_TRADE_Miles\n",
      "CalebRascon_CORPUS , CalebRascon_TRADE_CharlieParker\n"
     ]
    }
   ],
   "source": [
    "axis_X = {}\n",
    "for keyname_i in list(all_similarities_store.keys()):\n",
    "    directory_A = keyname_i.split(\":\")[0].split(\"/\")[1] + \"_\" + keyname_i.split(\":\")[0].split(\"/\")[2]\n",
    "    directory_B = keyname_i.split(\":\")[1].split(\"/\")[1] + \"_\" + keyname_i.split(\":\")[1].split(\"/\")[2]\n",
    "    \n",
    "    # We skip the Axis X options\n",
    "    # OPTION 1\n",
    "    if not (directory_A == \"CalebRascon_CORPUS\"):\n",
    "        continue\n",
    "    \n",
    "    # OPTION 2\n",
    "    # if not (directory_A == \"CalebRascon_MIDI_Grammar_SOLO_LEN12\"):\n",
    "    #     continue\n",
    "    \n",
    "    directory_A = replace_verbose_name(directory_A)\n",
    "    directory_B = replace_verbose_name(directory_B)\n",
    "    \n",
    "    print(directory_A + \" , \" + directory_B)\n",
    "    \n",
    "    if (directory_B not in axis_X):\n",
    "        axis_X[directory_B] = []\n",
    "    \n",
    "    current_sim_df = pd.DataFrame(all_similarities_store[keyname_i])\n",
    "    axis_X[directory_B].append(current_sim_df.mean())\n",
    "    "
   ]
  },
  {
   "cell_type": "code",
   "execution_count": 52,
   "metadata": {},
   "outputs": [],
   "source": [
    "for keynameX_i in list(axis_X.keys()):\n",
    "    axis_X[keynameX_i] = pd.DataFrame(axis_X[keynameX_i]).mean()"
   ]
  },
  {
   "cell_type": "markdown",
   "metadata": {},
   "source": [
    "### Coordinate representation"
   ]
  },
  {
   "cell_type": "code",
   "execution_count": 53,
   "metadata": {},
   "outputs": [
    {
     "data": {
      "text/plain": [
       "Text(0, 0.5, 'Reference Artists Avg')"
      ]
     },
     "execution_count": 53,
     "metadata": {},
     "output_type": "execute_result"
    },
    {
     "data": {
      "image/png": "[encoded data removed]",
      "text/plain": [
       "<Figure size 720x576 with 1 Axes>"
      ]
     },
     "metadata": {
      "needs_background": "light"
     },
     "output_type": "display_data"
    }
   ],
   "source": [
    "markers_plt = ['o', 's', 's', '^', '^', '^', '>', 's', 'd', ',']\n",
    "# ['o', '.', ',', 'x', '+', 'v', '^', '<', '>', 's', 'd']\n",
    "marker_i = 0\n",
    "plt.figure(figsize=(10,8))\n",
    "plt.xlim(12, 40);\n",
    "plt.ylim(12, 40);\n",
    "\n",
    "for keyname_i in axis_X:\n",
    "    current_X_values = []\n",
    "    current_Y_values = []\n",
    "    if (\"CalebRascon_GSOLO\" == keyname_i) or (\"CalebRascon_TRADE_Caleb\" == keyname_i) :\n",
    "        continue\n",
    "    for i in range(len(axis_X[keyname_i])): \n",
    "        # print(axis_X[keyname_i][i], axis_Y[keyname_i][i])\n",
    "        current_X_values.append(axis_X[keyname_i][i])\n",
    "        current_Y_values.append(axis_Y[keyname_i][i])\n",
    "    \n",
    "    plt.plot(current_X_values, current_Y_values, markers_plt[marker_i], label=keyname_i)\n",
    "    marker_i += 1\n",
    "\n",
    "plt.plot([26, 26], [12, 40], 'k-', lw=1)\n",
    "plt.plot([12, 40], [26, 26], 'k-', lw=1)\n",
    "plt.legend(numpoints=1)\n",
    "plt.xlabel(\"CalebRascon_CORPUS\")\n",
    "plt.ylabel(\"Reference Artists Avg\")"
   ]
  },
  {
   "cell_type": "code",
   "execution_count": null,
   "metadata": {},
   "outputs": [],
   "source": []
  }
 ],
 "metadata": {
  "kernelspec": {
   "display_name": "Python 3",
   "language": "python",
   "name": "python3"
  },
  "language_info": {
   "codemirror_mode": {
    "name": "ipython",
    "version": 3
   },
   "file_extension": ".py",
   "mimetype": "text/x-python",
   "name": "python",
   "nbconvert_exporter": "python",
   "pygments_lexer": "ipython3",
   "version": "3.7.8"
  }
 },
 "nbformat": 4,
 "nbformat_minor": 4
}
