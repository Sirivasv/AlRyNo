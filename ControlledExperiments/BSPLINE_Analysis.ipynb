{
 "cells": [
  {
   "cell_type": "code",
   "execution_count": 1,
   "metadata": {},
   "outputs": [],
   "source": [
    "import os\n",
    "import numpy as np\n",
    "import music21 as m21\n",
    "import pandas as pd\n",
    "import json\n",
    "import matplotlib.pyplot as plt\n",
    "from scipy import stats\n",
    "from scipy import spatial\n",
    "import time\n",
    "from collections import Counter\n",
    "\n",
    "np.random.seed(777)\n",
    "us = m21.environment.UserSettings()\n",
    "\n",
    "# us['musescoreDirectPNGPath']=\"/home/sirivasv/Downloads/MuseScore-3.4.2-x86_64.AppImage\"\n",
    "us['musescoreDirectPNGPath']='/home/sirivasv/.local/bin/MuseScore-3.5.2.312125617-x86_64.AppImage'\n",
    "\n",
    "# Define dataset paths\n",
    "# MXML_PATH=\"/media/sirivasv/JASON/Saul/MCC/DATASETS/DATASUBSET/MTC-ANN-2.0.1/mid\"\n",
    "MXML_PATH=\"/media/sirivasv/DATAL/MCC/DATASUBSET/MTC-ANN-2.0.1/mid\"\n",
    "\n",
    "# METADATA_PATH=\"/media/sirivasv/JASON/Saul/MCC/DATASETS/DATASUBSET/MTC-ANN-2.0.1/metadata\"\n",
    "METADATA_PATH=\"/media/sirivasv/DATAL/MCC/DATASUBSET/MTC-ANN-2.0.1/metadata\" \n",
    "\n",
    "# BSpline Results file path\n",
    "BSPLINE_RESULST_PATH = \"/home/sirivasv/Documents/projects/MelodyShape/src/results.txt\""
   ]
  },
  {
   "cell_type": "code",
   "execution_count": 2,
   "metadata": {},
   "outputs": [],
   "source": [
    "def get_mean_distance_for_song():\n",
    "    \n",
    "    # We initialize the mean difference across noises\n",
    "    diff_x_noises = []\n",
    "    \n",
    "    # Metric Values\n",
    "    metric_values = []\n",
    "    \n",
    "    # Difference per percentage\n",
    "    differences_per_percentage = []\n",
    "    \n",
    "    # We traverse the noises\n",
    "    for noise_type_i in noise_types:\n",
    "        # if (noise_type_i == 2):\n",
    "            # continue\n",
    "        \n",
    "        # We initialize the mean distance in the current noise\n",
    "        sorted_distance_mean_current_noise = 0\n",
    "        \n",
    "        # We save the similarities differences with the percentage\n",
    "        similarity_differences_for_mean = []\n",
    "        \n",
    "        # We save metric values per noise type\n",
    "        metric_values_per_noise = []\n",
    "        \n",
    "        # We save the values to sort accordingly their position\n",
    "        metric_values_to_sort_percentage = []\n",
    "        \n",
    "        # We traverse the percentages\n",
    "        for noise_percentage_i in noise_percentages:\n",
    "            keyname_result = str(noise_type_i) + \"_\" + str(noise_percentage_i)\n",
    "            # print(keyname_result)\n",
    "            current_similarity = 1.0 - raw_BSPLINE_results_LOADED[keyname_result]\n",
    "            # print(current_similarity)\n",
    "            metric_values_per_noise.append(current_similarity)\n",
    "            metric_values_to_sort_percentage.append(current_similarity)\n",
    "                \n",
    "        for nid, noise_percentage_i in enumerate(noise_percentages):\n",
    "            noise_percentage_i /= 100.0\n",
    "            similarity_differences_for_mean.append(np.abs(metric_values_to_sort_percentage[nid] - noise_percentage_i))\n",
    "        \n",
    "        # Get the mean of the \n",
    "        similarity_difference_mean_current_noise = np.mean(similarity_differences_for_mean)\n",
    "        \n",
    "        # Save the differences per percentage\n",
    "        differences_per_percentage.append(similarity_differences_for_mean)\n",
    "        \n",
    "        # Save the metric values per percentage\n",
    "        metric_values.append(metric_values_per_noise)\n",
    "        \n",
    "        # We sum the distance for this noise\n",
    "        diff_x_noises.append(similarity_difference_mean_current_noise)\n",
    "    \n",
    "    # We return the mean distance per noise\n",
    "    return metric_values, differences_per_percentage, diff_x_noises"
   ]
  },
  {
   "cell_type": "markdown",
   "metadata": {},
   "source": [
    "## No Threshold"
   ]
  },
  {
   "cell_type": "code",
   "execution_count": 3,
   "metadata": {},
   "outputs": [],
   "source": [
    "raw_BSPLINE_results_LOADED = {}\n",
    "with open(BSPLINE_RESULST_PATH) as json_file:\n",
    "    raw_BSPLINE_results_LOADED = json.load(json_file)"
   ]
  },
  {
   "cell_type": "code",
   "execution_count": 4,
   "metadata": {},
   "outputs": [
    {
     "name": "stdout",
     "output_type": "stream",
     "text": [
      "CPU times: user 196 µs, sys: 26 µs, total: 222 µs\n",
      "Wall time: 214 µs\n"
     ]
    }
   ],
   "source": [
    "%%time\n",
    "# Define noise type array\n",
    "noise_types = [1, 2, 3, 4, 5]\n",
    "len_noise_types = len(noise_types)\n",
    "\n",
    "# Define the percentages of noise\n",
    "noise_percentages = list(map(int, np.linspace(10, 100, 10)))\n",
    "\n",
    "# TEST\n",
    "metric_values_no_thd, differences_per_percentage_no_thd, diff_x_noises_no_thd = get_mean_distance_for_song()"
   ]
  },
  {
   "cell_type": "code",
   "execution_count": 5,
   "metadata": {},
   "outputs": [
    {
     "name": "stdout",
     "output_type": "stream",
     "text": [
      "0.3459864342\n"
     ]
    }
   ],
   "source": [
    "print(np.mean(diff_x_noises_no_thd))"
   ]
  },
  {
   "cell_type": "markdown",
   "metadata": {},
   "source": [
    "## Graphs"
   ]
  },
  {
   "cell_type": "code",
   "execution_count": 6,
   "metadata": {},
   "outputs": [],
   "source": [
    "def autolabel(rects, ax):\n",
    "    \"\"\"Attach a text label above each bar in *rects*, displaying its height.\"\"\"\n",
    "    for rect in rects:\n",
    "        height = rect.get_height()\n",
    "        ax.annotate('{}'.format(round(height,3)),\n",
    "                    xy=(rect.get_x() + rect.get_width() / 2, height),\n",
    "                    xytext=(0, 3),  # 3 points vertical offset\n",
    "                    textcoords=\"offset points\",\n",
    "                    ha='center', va='bottom')"
   ]
  },
  {
   "cell_type": "code",
   "execution_count": 7,
   "metadata": {},
   "outputs": [],
   "source": [
    "def plot_conf_noises(metric_values_, differences_percentages_, diff_x_noises_):\n",
    "    fig, axs = plt.subplots(7, 1, figsize=(12, 6 * 7))\n",
    "    # print(differences_percentages_)\n",
    "    \n",
    "    # Graphs per noise type\n",
    "    for noise_i in range(len_noise_types):\n",
    "        axs_to_plot = axs[noise_i]\n",
    "        rects = axs_to_plot.bar(list(map(str, np.linspace(10, 100, 10))), differences_percentages_[noise_i])\n",
    "        autolabel(rects, axs_to_plot)\n",
    "        axs_to_plot.set_title(label=\"Noise #\" + str(noise_i + 1))\n",
    "    \n",
    "    # Graph mean per percentage across noises\n",
    "    grouped_percentage_values = []\n",
    "    for percentage in map(int, np.linspace(10, 100, 10)):\n",
    "        grouped_percentage_values.append([])\n",
    "        \n",
    "    for noise_i in range(len_noise_types):\n",
    "        perc_i = 0\n",
    "        for percentage in map(int, np.linspace(10, 100, 10)):\n",
    "            grouped_percentage_values[perc_i].append(differences_percentages_[noise_i][perc_i])\n",
    "            perc_i += 1\n",
    "    perc_i = 0\n",
    "    for percentage in map(int, np.linspace(10, 100, 10)):\n",
    "        grouped_percentage_values[perc_i] = np.mean(grouped_percentage_values[perc_i])\n",
    "        perc_i += 1\n",
    "        \n",
    "    axs_to_plot = axs[5]\n",
    "    rects = axs_to_plot.bar(list(map(str, np.linspace(10, 100, 10))), grouped_percentage_values, color=\"orange\")\n",
    "    autolabel(rects, axs_to_plot)\n",
    "    axs_to_plot.set_title(label=\"Mean Differences across all Noises\")\n",
    "    \n",
    "    # Graph with mean for each noise accross percentages\n",
    "    axs_to_plot = axs[6]\n",
    "    rects = axs_to_plot.bar(list(range(1,6)), list(map(np.mean, differences_percentages_)), color=\"red\")\n",
    "    autolabel(rects, axs_to_plot)\n",
    "    axs_to_plot.set_title(label=\"Mean Noise Difference\")\n",
    "        "
   ]
  },
  {
   "cell_type": "code",
   "execution_count": 8,
   "metadata": {},
   "outputs": [],
   "source": [
    "def get_mean_diff_vectors(differences_percentages_):\n",
    "    # Get Mean per percentage across noises\n",
    "    grouped_percentage_values = []\n",
    "    for percentage in map(int, np.linspace(10, 100, 10)):\n",
    "        grouped_percentage_values.append([])\n",
    "        \n",
    "    for noise_i in range(len_noise_types):\n",
    "        perc_i = 0\n",
    "        for percentage in map(int, np.linspace(10, 100, 10)):\n",
    "            grouped_percentage_values[perc_i].append(differences_percentages_[noise_i][perc_i])\n",
    "            perc_i += 1\n",
    "    perc_i = 0\n",
    "    for percentage in map(int, np.linspace(10, 100, 10)):\n",
    "        grouped_percentage_values[perc_i] = np.mean(grouped_percentage_values[perc_i])\n",
    "        perc_i += 1\n",
    "        \n",
    "    return grouped_percentage_values, list(map(np.mean, differences_percentages_))"
   ]
  },
  {
   "cell_type": "code",
   "execution_count": 9,
   "metadata": {},
   "outputs": [],
   "source": [
    "def plot_conf_best_noises(raw_calculations):\n",
    "    fig, axs = plt.subplots(2, 1, figsize=(12, 6 * 2))\n",
    "    differences_percentages_ = raw_calculations[1]\n",
    "    # Graph mean per percentage across noises\n",
    "    grouped_percentage_values = []\n",
    "    for percentage in map(int, np.linspace(10, 100, 10)):\n",
    "        grouped_percentage_values.append([])\n",
    "        \n",
    "    for noise_i in range(len_noise_types):\n",
    "        perc_i = 0\n",
    "        for percentage in map(int, np.linspace(10, 100, 10)):\n",
    "            grouped_percentage_values[perc_i].append(differences_percentages_[noise_i][perc_i])\n",
    "            perc_i += 1\n",
    "    perc_i = 0\n",
    "    for percentage in map(int, np.linspace(10, 100, 10)):\n",
    "        grouped_percentage_values[perc_i] = np.mean(grouped_percentage_values[perc_i])\n",
    "        perc_i += 1\n",
    "        \n",
    "    axs_to_plot = axs[0]\n",
    "    rects = axs_to_plot.bar(list(map(str, np.linspace(10, 100, 10))), grouped_percentage_values, color=\"orange\")\n",
    "    autolabel(rects, axs_to_plot)\n",
    "    axs_to_plot.set_title(label=\"Mean Differences across all Noises\")\n",
    "    \n",
    "    # Graph with mean for each noisea accross percentages\n",
    "    axs_to_plot = axs[1]\n",
    "    rects = axs_to_plot.bar(list(range(1,6)), list(map(np.mean, differences_percentages_)), color=\"red\")\n",
    "    autolabel(rects, axs_to_plot)\n",
    "    axs_to_plot.set_title(label=\"Mean Noise Difference\")"
   ]
  },
  {
   "cell_type": "markdown",
   "metadata": {},
   "source": [
    "## Experiment results"
   ]
  },
  {
   "cell_type": "code",
   "execution_count": 10,
   "metadata": {},
   "outputs": [
    {
     "name": "stdout",
     "output_type": "stream",
     "text": [
      "(0.026173695000000052, 0.10907697537939427, 0.3459864342)\n",
      "(0.08950785000000003, 0.08849333045956843, 0.3459864342)\n",
      "CPU times: user 1.28 ms, sys: 158 µs, total: 1.43 ms\n",
      "Wall time: 1.06 ms\n"
     ]
    }
   ],
   "source": [
    "%%time\n",
    "\n",
    "mad_and_std_per_noise_and_percentage = {}\n",
    "\n",
    "metric_values_no_thd, differences_per_percentage_no_thd, diff_x_noises_no_thd = get_mean_distance_for_song()\n",
    "\n",
    "per_percentage_mean_diffs, per_noise_mean_diffs = get_mean_diff_vectors(differences_per_percentage_no_thd)\n",
    "mad_and_std_per_noise_and_percentage[\"noise\"] = (\n",
    "    stats.median_abs_deviation(per_noise_mean_diffs),\n",
    "    np.std(per_noise_mean_diffs, dtype=np.float64),\n",
    "    np.mean(per_noise_mean_diffs)\n",
    ")\n",
    "print(mad_and_std_per_noise_and_percentage[\"noise\"])\n",
    "mad_and_std_per_noise_and_percentage[\"percentage\"] = (\n",
    "    stats.median_abs_deviation(per_percentage_mean_diffs),\n",
    "    np.std(per_percentage_mean_diffs, dtype=np.float64),\n",
    "    np.mean(per_percentage_mean_diffs)\n",
    ")\n",
    "print(mad_and_std_per_noise_and_percentage[\"percentage\"])\n",
    "mad_and_std_per_noise_and_percentage[\"raw\"] = (\n",
    "    metric_values_no_thd,\n",
    "    differences_per_percentage_no_thd,\n",
    "    diff_x_noises_no_thd\n",
    ")"
   ]
  },
  {
   "cell_type": "code",
   "execution_count": 11,
   "metadata": {},
   "outputs": [
    {
     "data": {
      "image/png": "[encoded data removed]",
      "text/plain": [
       "<Figure size 864x864 with 2 Axes>"
      ]
     },
     "metadata": {
      "needs_background": "light"
     },
     "output_type": "display_data"
    }
   ],
   "source": [
    "plot_conf_best_noises(mad_and_std_per_noise_and_percentage[\"raw\"])"
   ]
  },
  {
   "cell_type": "code",
   "execution_count": null,
   "metadata": {},
   "outputs": [],
   "source": []
  }
 ],
 "metadata": {
  "kernelspec": {
   "display_name": "Python 3",
   "language": "python",
   "name": "python3"
  },
  "language_info": {
   "codemirror_mode": {
    "name": "ipython",
    "version": 3
   },
   "file_extension": ".py",
   "mimetype": "text/x-python",
   "name": "python",
   "nbconvert_exporter": "python",
   "pygments_lexer": "ipython3",
   "version": "3.7.8"
  }
 },
 "nbformat": 4,
 "nbformat_minor": 4
}
