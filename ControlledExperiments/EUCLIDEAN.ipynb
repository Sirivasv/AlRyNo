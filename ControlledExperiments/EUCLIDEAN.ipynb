{
 "cells": [
  {
   "cell_type": "code",
   "execution_count": 1,
   "metadata": {},
   "outputs": [],
   "source": [
    "import os\n",
    "import numpy as np\n",
    "import music21 as m21\n",
    "import pandas as pd\n",
    "import json\n",
    "import matplotlib.pyplot as plt\n",
    "from scipy import stats\n",
    "from scipy import spatial\n",
    "import time\n",
    "\n",
    "np.random.seed(777)\n",
    "us = m21.environment.UserSettings()\n",
    "\n",
    "# us['musescoreDirectPNGPath']=\"/home/sirivasv/Downloads/MuseScore-3.4.2-x86_64.AppImage\"\n",
    "us['musescoreDirectPNGPath']='/home/sirivasv/.local/bin/MuseScore-3.5.2.312125617-x86_64.AppImage'\n",
    "\n",
    "# Define dataset paths\n",
    "# MXML_PATH=\"/media/sirivasv/JASON/Saul/MCC/DATASETS/DATASUBSET/MTC-ANN-2.0.1/mid\"\n",
    "MXML_PATH=\"/media/sirivasv/DATAL/MCC/DATASUBSET/MTC-ANN-2.0.1/mid\"\n",
    "\n",
    "# METADATA_PATH=\"/media/sirivasv/JASON/Saul/MCC/DATASETS/DATASUBSET/MTC-ANN-2.0.1/metadata\"\n",
    "METADATA_PATH=\"/media/sirivasv/DATAL/MCC/DATASUBSET/MTC-ANN-2.0.1/metadata\" "
   ]
  },
  {
   "cell_type": "markdown",
   "metadata": {},
   "source": [
    "## Data"
   ]
  },
  {
   "cell_type": "code",
   "execution_count": 2,
   "metadata": {},
   "outputs": [
    {
     "data": {
      "text/html": [
       "<div>\n",
       "<style scoped>\n",
       "    .dataframe tbody tr th:only-of-type {\n",
       "        vertical-align: middle;\n",
       "    }\n",
       "\n",
       "    .dataframe tbody tr th {\n",
       "        vertical-align: top;\n",
       "    }\n",
       "\n",
       "    .dataframe thead th {\n",
       "        text-align: right;\n",
       "    }\n",
       "</style>\n",
       "<table border=\"1\" class=\"dataframe\">\n",
       "  <thead>\n",
       "    <tr style=\"text-align: right;\">\n",
       "      <th></th>\n",
       "      <th>0</th>\n",
       "      <th>1</th>\n",
       "    </tr>\n",
       "  </thead>\n",
       "  <tbody>\n",
       "    <tr>\n",
       "      <th>0</th>\n",
       "      <td>NLB072587_01</td>\n",
       "      <td>Daar_ging_een_heer_1</td>\n",
       "    </tr>\n",
       "    <tr>\n",
       "      <th>1</th>\n",
       "      <td>NLB072587_02</td>\n",
       "      <td>Daar_ging_een_heer_1</td>\n",
       "    </tr>\n",
       "    <tr>\n",
       "      <th>2</th>\n",
       "      <td>NLB072774_02</td>\n",
       "      <td>Daar_ging_een_heer_1</td>\n",
       "    </tr>\n",
       "    <tr>\n",
       "      <th>3</th>\n",
       "      <td>NLB073046_01</td>\n",
       "      <td>Daar_ging_een_heer_1</td>\n",
       "    </tr>\n",
       "    <tr>\n",
       "      <th>4</th>\n",
       "      <td>NLB073588_01</td>\n",
       "      <td>Daar_ging_een_heer_1</td>\n",
       "    </tr>\n",
       "  </tbody>\n",
       "</table>\n",
       "</div>"
      ],
      "text/plain": [
       "              0                     1\n",
       "0  NLB072587_01  Daar_ging_een_heer_1\n",
       "1  NLB072587_02  Daar_ging_een_heer_1\n",
       "2  NLB072774_02  Daar_ging_een_heer_1\n",
       "3  NLB073046_01  Daar_ging_een_heer_1\n",
       "4  NLB073588_01  Daar_ging_een_heer_1"
      ]
     },
     "execution_count": 2,
     "metadata": {},
     "output_type": "execute_result"
    }
   ],
   "source": [
    "# Read table of tune family\n",
    "tune_family_filename = \"MTC-ANN-tune-family-labels.csv\"\n",
    "tune_family_df = pd.read_csv(os.path.join(METADATA_PATH, tune_family_filename), header=None)\n",
    "tune_family_df.head()"
   ]
  },
  {
   "cell_type": "code",
   "execution_count": 3,
   "metadata": {},
   "outputs": [],
   "source": [
    "# Traverse musicxml files and tune family\n",
    "song_id_x_family = {}\n",
    "family_x_songs = {}\n",
    "for root, directories, files in os.walk(MXML_PATH):\n",
    "    for file in files:\n",
    "        song_id = file.split(\".\")[0]\n",
    "        if (song_id not in song_id_x_family):\n",
    "            family_name = tune_family_df[tune_family_df[0] == song_id].iloc[0][1]\n",
    "            song_id_x_family[song_id] = (file, family_name)\n",
    "            if (family_name not in family_x_songs):\n",
    "                family_x_songs[family_name] = []\n",
    "            family_x_songs[family_name].append(song_id)"
   ]
  },
  {
   "cell_type": "code",
   "execution_count": 4,
   "metadata": {},
   "outputs": [
    {
     "data": {
      "text/html": [
       "<div>\n",
       "<style scoped>\n",
       "    .dataframe tbody tr th:only-of-type {\n",
       "        vertical-align: middle;\n",
       "    }\n",
       "\n",
       "    .dataframe tbody tr th {\n",
       "        vertical-align: top;\n",
       "    }\n",
       "\n",
       "    .dataframe thead th {\n",
       "        text-align: right;\n",
       "    }\n",
       "</style>\n",
       "<table border=\"1\" class=\"dataframe\">\n",
       "  <thead>\n",
       "    <tr style=\"text-align: right;\">\n",
       "      <th></th>\n",
       "      <th>0</th>\n",
       "      <th>1</th>\n",
       "    </tr>\n",
       "  </thead>\n",
       "  <tbody>\n",
       "    <tr>\n",
       "      <th>0</th>\n",
       "      <td>NLB072587_01</td>\n",
       "      <td>Daar_ging_een_heer_1</td>\n",
       "    </tr>\n",
       "    <tr>\n",
       "      <th>1</th>\n",
       "      <td>NLB072587_02</td>\n",
       "      <td>Daar_ging_een_heer_1</td>\n",
       "    </tr>\n",
       "    <tr>\n",
       "      <th>2</th>\n",
       "      <td>NLB072774_02</td>\n",
       "      <td>Daar_ging_een_heer_1</td>\n",
       "    </tr>\n",
       "    <tr>\n",
       "      <th>3</th>\n",
       "      <td>NLB073046_01</td>\n",
       "      <td>Daar_ging_een_heer_1</td>\n",
       "    </tr>\n",
       "    <tr>\n",
       "      <th>4</th>\n",
       "      <td>NLB073588_01</td>\n",
       "      <td>Daar_ging_een_heer_1</td>\n",
       "    </tr>\n",
       "  </tbody>\n",
       "</table>\n",
       "</div>"
      ],
      "text/plain": [
       "              0                     1\n",
       "0  NLB072587_01  Daar_ging_een_heer_1\n",
       "1  NLB072587_02  Daar_ging_een_heer_1\n",
       "2  NLB072774_02  Daar_ging_een_heer_1\n",
       "3  NLB073046_01  Daar_ging_een_heer_1\n",
       "4  NLB073588_01  Daar_ging_een_heer_1"
      ]
     },
     "execution_count": 4,
     "metadata": {},
     "output_type": "execute_result"
    }
   ],
   "source": [
    "# Remove the incomplete anotated tunes from the dataframe\n",
    "reduced_tune_family_df = tune_family_df[tune_family_df[0].isin(list(song_id_x_family.keys()))]\n",
    "reduced_tune_family_df.head()"
   ]
  },
  {
   "cell_type": "markdown",
   "metadata": {},
   "source": [
    "## Functions"
   ]
  },
  {
   "cell_type": "code",
   "execution_count": 5,
   "metadata": {},
   "outputs": [],
   "source": [
    "def getSongKey(song):\n",
    "    key = song.analyze(\"key\")\n",
    "    return key"
   ]
  },
  {
   "cell_type": "code",
   "execution_count": 6,
   "metadata": {},
   "outputs": [],
   "source": [
    "def getSongKeyFromMelody_W_Times(melody_w_times_in_k):\n",
    "    sc_test = m21.stream.Score()\n",
    "    p0_test = m21.stream.Part()\n",
    "    p0_test.id = 'part0'\n",
    "    for pitch_i in melody_w_times_in_k:\n",
    "        n_i = m21.note.Note(pitch_i[4])\n",
    "        p0_test.append(n_i)\n",
    "    sc_test.insert(0, p0_test)\n",
    "    return getSongKey(sc_test)"
   ]
  },
  {
   "cell_type": "code",
   "execution_count": 7,
   "metadata": {},
   "outputs": [],
   "source": [
    "# Function to retrieve a list of midi pitch events and its timestamp\n",
    "def getMelodyDeltaTimes(eventsintrack):\n",
    "    \n",
    "    # Initialize array\n",
    "    DeltaTimes = []\n",
    "    \n",
    "    # Initialize cumulative sum\n",
    "    cum_sum = 0\n",
    "    \n",
    "    # Initialize variable to track the time delta\n",
    "    prev_deltatime = 0\n",
    "    \n",
    "    # Traverse the events\n",
    "    for ev in eventsintrack:\n",
    "        \n",
    "        # If a note starts\n",
    "        if (ev.isNoteOn()):\n",
    "            \n",
    "            # Get the pitch name and save it with the cumulative sum, midi pitch and name\n",
    "            pitch_in_time = m21.pitch.Pitch(ev.pitch)\n",
    "            DeltaTimes.append((cum_sum, prev_deltatime, pitch_in_time.midi, pitch_in_time.spanish, pitch_in_time))\n",
    "            \n",
    "            # Restart the delta time\n",
    "            prev_deltatime = 0\n",
    "        \n",
    "        # Else if there is a delta time\n",
    "        elif(str(ev.type) == \"DeltaTime\"):\n",
    "            \n",
    "            # We sum the time\n",
    "            cum_sum += ev.time\n",
    "            \n",
    "            # We sum it to the current delta time\n",
    "            prev_deltatime += ev.time\n",
    "    \n",
    "    # Return the array\n",
    "    return DeltaTimes"
   ]
  },
  {
   "cell_type": "code",
   "execution_count": 8,
   "metadata": {},
   "outputs": [],
   "source": [
    "# Read Files \n",
    "song_m21_streams = {}\n",
    "\n",
    "# We traverse the reduced table\n",
    "for query_row in reduced_tune_family_df.iterrows():\n",
    "    tune_family_query = query_row[1][1]\n",
    "    song_id_A = query_row[1][0]\n",
    "    \n",
    "    song_stream_A = m21.converter.parseFile(os.path.join(MXML_PATH, song_id_x_family[song_id_A][0]))\n",
    "    midi_tracks_A = m21.midi.translate.streamToMidiFile(song_stream_A)\n",
    "    melody_w_times_A = getMelodyDeltaTimes(midi_tracks_A.tracks[0].events)\n",
    "    \n",
    "    song_m21_streams[song_id_A] = {\n",
    "        \"song_stream\": song_stream_A,\n",
    "        \"midi_tracks\": midi_tracks_A,\n",
    "        \"melody_w_times\": melody_w_times_A\n",
    "    }"
   ]
  },
  {
   "cell_type": "markdown",
   "metadata": {},
   "source": [
    "## Noises"
   ]
  },
  {
   "cell_type": "markdown",
   "metadata": {},
   "source": [
    "### Type 1. Random Pitch"
   ]
  },
  {
   "cell_type": "code",
   "execution_count": 9,
   "metadata": {},
   "outputs": [],
   "source": [
    "def get_random_pitch():\n",
    "    \n",
    "    new_pitch_class = np.random.randint(0, 12)\n",
    "    new_pitch_octave = np.random.randint(1, 9)\n",
    "    \n",
    "    return m21.pitch.Pitch(octave=new_pitch_octave, pitchClass=new_pitch_class)"
   ]
  },
  {
   "cell_type": "code",
   "execution_count": 10,
   "metadata": {},
   "outputs": [],
   "source": [
    "# Define apply Transformation type 1: Ruido en notas\n",
    "def apply_note_noise(melody_w_times_in, percentage=50):\n",
    "    \n",
    "    # Track modified notes \n",
    "    modified_notes = {}\n",
    "    \n",
    "    # Store the length of the melody\n",
    "    len_melody = len(melody_w_times_in)\n",
    "    \n",
    "    # According to the desired percentage of noise we get the number of notes to be modified\n",
    "    many_notes = int((len_melody * percentage)//100)\n",
    "    \n",
    "    for noise_i in range(many_notes):\n",
    "        \n",
    "        # Select a random position that we haven't seen yet\n",
    "        note_to_change = np.random.randint(0, len_melody)\n",
    "        while (note_to_change in modified_notes):\n",
    "            note_to_change = np.random.randint(0, len_melody)\n",
    "        modified_notes[note_to_change] = 1\n",
    "        \n",
    "        # Creating a new pitch note\n",
    "        previous_pitch = melody_w_times_in[note_to_change][3]\n",
    "        p_new = get_random_pitch()\n",
    "        while (p_new.spanish == previous_pitch):\n",
    "            p_new = get_random_pitch()\n",
    "        \n",
    "        \n",
    "        # Replace the data \n",
    "        melody_w_times_in[note_to_change] = (\n",
    "            melody_w_times_in[note_to_change][0],\n",
    "            melody_w_times_in[note_to_change][1],\n",
    "            p_new.midi,\n",
    "            p_new.spanish,\n",
    "            p_new)\n",
    "    \n",
    "    # Return the modified melody\n",
    "    return melody_w_times_in"
   ]
  },
  {
   "cell_type": "markdown",
   "metadata": {},
   "source": [
    "### Type 2. Random DeltaTime"
   ]
  },
  {
   "cell_type": "code",
   "execution_count": 11,
   "metadata": {},
   "outputs": [],
   "source": [
    "def recalculate_timestamps(melody_w_times_in):\n",
    "    \n",
    "    # Store the length of the melody\n",
    "    len_melody = len(melody_w_times_in)\n",
    "    \n",
    "    # Define current start time\n",
    "    current_start_time = 0\n",
    "    \n",
    "    # Traverse the melody\n",
    "    for note_i in range(len_melody):\n",
    "        current_start_time += melody_w_times_in[note_i][1]\n",
    "        melody_w_times_in[note_i] = (\n",
    "            current_start_time,\n",
    "            melody_w_times_in[note_i][1],\n",
    "            melody_w_times_in[note_i][2],\n",
    "            melody_w_times_in[note_i][3],\n",
    "            melody_w_times_in[note_i][4])\n",
    "    \n",
    "    # Return the recalculated melody\n",
    "    return melody_w_times_in"
   ]
  },
  {
   "cell_type": "code",
   "execution_count": 12,
   "metadata": {},
   "outputs": [],
   "source": [
    "def get_random_deltatime():\n",
    "    return np.random.randint(0, 4097)"
   ]
  },
  {
   "cell_type": "code",
   "execution_count": 13,
   "metadata": {},
   "outputs": [],
   "source": [
    "# Define apply Transformation type 2: Ruido en tiempos\n",
    "def apply_deltatime_noise(melody_w_times_in, percentage=50):\n",
    "    \n",
    "    # Track modified notes \n",
    "    modified_notes = {}\n",
    "    \n",
    "    # Store the length of the melody\n",
    "    len_melody = len(melody_w_times_in)\n",
    "    \n",
    "    # According to the desired percentage of noise we get the number of notes to be modified\n",
    "    many_notes = int((len_melody * percentage)//100)\n",
    "    \n",
    "    for noise_i in range(many_notes):\n",
    "        \n",
    "        # Select a random position that we haven't seen yet\n",
    "        note_to_change = np.random.randint(0, len_melody)\n",
    "        while (note_to_change in modified_notes):\n",
    "            note_to_change = np.random.randint(0, len_melody)\n",
    "        modified_notes[note_to_change] = 1\n",
    "        \n",
    "        # Creating a new deltatime\n",
    "        previous_deltatime = melody_w_times_in[note_to_change][1]\n",
    "        deltatime_new = get_random_deltatime()\n",
    "        while (deltatime_new == previous_deltatime):\n",
    "            deltatime_new = get_random_deltatime()\n",
    "        \n",
    "        # ratio_of_change = np.abs((deltatime_new - previous_deltatime))\n",
    "        # if previous_deltatime != 0:\n",
    "        #     ratio_of_change /= previous_deltatime\n",
    "        # else:\n",
    "        #     ratio_of_change = -1\n",
    "        # print(\"AAA\", ratio_of_change)\n",
    "        \n",
    "        # Replace the data \n",
    "        melody_w_times_in[note_to_change] = (\n",
    "            melody_w_times_in[note_to_change][0],\n",
    "            deltatime_new,\n",
    "            melody_w_times_in[note_to_change][2],\n",
    "            melody_w_times_in[note_to_change][3],\n",
    "            melody_w_times_in[note_to_change][4])\n",
    "        \n",
    "        # Recalculate timestamps due to the modification in deltatimes\n",
    "        melody_w_times_in = recalculate_timestamps(melody_w_times_in)\n",
    "    \n",
    "    # Return the modified melody\n",
    "    return melody_w_times_in"
   ]
  },
  {
   "cell_type": "markdown",
   "metadata": {},
   "source": [
    "### Type 3. Noise in Pitch and Deltatime"
   ]
  },
  {
   "cell_type": "code",
   "execution_count": 14,
   "metadata": {},
   "outputs": [],
   "source": [
    "# Define apply Transformation type 3: Ruido en tiempos y notas (reemplazo)\n",
    "def apply_deltatime_and_note_noise(melody_w_times_in, percentage=50):\n",
    "    \n",
    "    # Track modified notes \n",
    "    modified_notes = {}\n",
    "    \n",
    "    # Store the length of the melody\n",
    "    len_melody = len(melody_w_times_in)\n",
    "    \n",
    "    # According to the desired percentage of noise we get the number of notes to be modified\n",
    "    many_notes = int((len_melody * percentage)//100)\n",
    "    \n",
    "    for noise_i in range(many_notes):\n",
    "        \n",
    "        # Select a random position that we haven't seen yet\n",
    "        note_to_change = np.random.randint(0, len_melody)\n",
    "        while (note_to_change in modified_notes):\n",
    "            note_to_change = np.random.randint(0, len_melody)\n",
    "        modified_notes[note_to_change] = 1\n",
    "        \n",
    "        # Creating a new deltatime\n",
    "        previous_deltatime = melody_w_times_in[note_to_change][1]\n",
    "        deltatime_new = get_random_deltatime()\n",
    "        while (deltatime_new == previous_deltatime):\n",
    "            deltatime_new = get_random_deltatime()\n",
    "        \n",
    "        # Creating a new pitch note\n",
    "        previous_pitch = melody_w_times_in[note_to_change][3]\n",
    "        p_new = get_random_pitch()\n",
    "        while (p_new.spanish == previous_pitch):\n",
    "            p_new = get_random_pitch()\n",
    "            \n",
    "        # Replace the data \n",
    "        melody_w_times_in[note_to_change] = (\n",
    "            melody_w_times_in[note_to_change][0],\n",
    "            deltatime_new,\n",
    "            p_new.midi,\n",
    "            p_new.spanish,\n",
    "            p_new)\n",
    "        \n",
    "        # Recalculate timestamps due to the modification in deltatimes\n",
    "        melody_w_times_in = recalculate_timestamps(melody_w_times_in)\n",
    "    \n",
    "    # Return the modified melody\n",
    "    return melody_w_times_in"
   ]
  },
  {
   "cell_type": "markdown",
   "metadata": {},
   "source": [
    "### Type 4. Removing notes"
   ]
  },
  {
   "cell_type": "code",
   "execution_count": 15,
   "metadata": {},
   "outputs": [],
   "source": [
    "# Define apply Transformation type 4: Noise by removing events\n",
    "def apply_removing_noise(melody_w_times_in, percentage=50):\n",
    "    \n",
    "    # Store the length of the melody\n",
    "    len_melody = len(melody_w_times_in)\n",
    "    \n",
    "    # According to the desired percentage of noise we get the number of notes to be modified\n",
    "    many_notes = int((len_melody * percentage)//100)\n",
    "    \n",
    "    for noise_i in range(many_notes):\n",
    "        \n",
    "        # Select a random position to remove\n",
    "        note_to_remove = np.random.randint(0, len(melody_w_times_in))\n",
    "        \n",
    "        # Remove element\n",
    "        melody_w_times_in.pop(note_to_remove)\n",
    "        \n",
    "        # Recalculate timestamps due to the modification in deltatimes continuity\n",
    "        melody_w_times_in = recalculate_timestamps(melody_w_times_in)\n",
    "    \n",
    "    # Return the modified melody\n",
    "    return melody_w_times_in"
   ]
  },
  {
   "cell_type": "markdown",
   "metadata": {},
   "source": [
    "### Type 5. Inserting new notes"
   ]
  },
  {
   "cell_type": "code",
   "execution_count": 16,
   "metadata": {},
   "outputs": [],
   "source": [
    "# Define apply Transformation type 5: Noise by Inserting events\n",
    "def apply_inserting_noise(melody_w_times_in, percentage=50):\n",
    "    \n",
    "    # Assert only percentages p <= 100 and p > 0\n",
    "    if percentage >= 100 or percentage < 0:\n",
    "        percentage = 99\n",
    "    \n",
    "    # Store the length of the melody\n",
    "    len_melody = len(melody_w_times_in)\n",
    "    \n",
    "    # According to the desired percentage of noise we get the number of notes to be modified\n",
    "    new_len = int(len_melody / (1 - (percentage / 100)))\n",
    "    many_notes = new_len - len_melody\n",
    "    \n",
    "    for noise_i in range(many_notes):\n",
    "        \n",
    "        # Create new Event\n",
    "        # Creating a new deltatime\n",
    "        deltatime_new = get_random_deltatime()\n",
    "        \n",
    "        # Creating a new pitch note\n",
    "        p_new = get_random_pitch()\n",
    "            \n",
    "        # Replace the data \n",
    "        new_midi_event = (\n",
    "            0,\n",
    "            deltatime_new,\n",
    "            p_new.midi,\n",
    "            p_new.spanish,\n",
    "            p_new)\n",
    "        \n",
    "        # Select a random position to insert\n",
    "        pos_to_insert = np.random.randint(0, len(melody_w_times_in))\n",
    "        \n",
    "        # Insert element\n",
    "        melody_w_times_in.insert(pos_to_insert, new_midi_event)\n",
    "        \n",
    "        # Recalculate timestamps due to the modification in deltatimes continuity\n",
    "        melody_w_times_in = recalculate_timestamps(melody_w_times_in)\n",
    "    \n",
    "    # Return the modified melody\n",
    "    return melody_w_times_in"
   ]
  },
  {
   "cell_type": "markdown",
   "metadata": {},
   "source": [
    "### Noise Controller"
   ]
  },
  {
   "cell_type": "code",
   "execution_count": 17,
   "metadata": {},
   "outputs": [],
   "source": [
    "def apply_ith_noise(noise_type, melody_w_times_in, percentage=50):\n",
    "    \n",
    "    if (noise_type == 1):\n",
    "        return apply_note_noise(melody_w_times_in, percentage)\n",
    "    if (noise_type == 2):\n",
    "        return apply_deltatime_noise(melody_w_times_in, percentage)\n",
    "    if (noise_type == 3):\n",
    "        return apply_deltatime_and_note_noise(melody_w_times_in, percentage)\n",
    "    if (noise_type == 4):\n",
    "        return apply_removing_noise(melody_w_times_in, percentage)\n",
    "    \n",
    "    return apply_inserting_noise(melody_w_times_in, percentage)"
   ]
  },
  {
   "cell_type": "markdown",
   "metadata": {},
   "source": [
    "## Experiments"
   ]
  },
  {
   "cell_type": "markdown",
   "metadata": {},
   "source": [
    "### EUCLIDEAN DISTANCE"
   ]
  },
  {
   "cell_type": "code",
   "execution_count": 18,
   "metadata": {},
   "outputs": [],
   "source": [
    "def get_pitch_vector(melody_w_times):\n",
    "    return [float(x[2]) for x in melody_w_times]"
   ]
  },
  {
   "cell_type": "code",
   "execution_count": 19,
   "metadata": {},
   "outputs": [],
   "source": [
    "def get_eclidean_from_melody_w_times(melody_w_times_query, melody_w_times_test):\n",
    "    \n",
    "    if (len(melody_w_times_query) == 0 or len(melody_w_times_test) == 0):\n",
    "        return 0\n",
    "    \n",
    "    pitch_vector_query = get_pitch_vector(melody_w_times_query)\n",
    "    pitch_vector_test = get_pitch_vector(melody_w_times_test)\n",
    "    \n",
    "    max_len = max(len(pitch_vector_query), len(pitch_vector_test))\n",
    "    # max_len = float(max(len(pitch_vector_query), len(pitch_vector_test)))\n",
    "    # min_len = min(len(pitch_vector_query), len(pitch_vector_test))\n",
    "    \n",
    "    pitch_vector_query.extend([0] * (max_len - len(pitch_vector_query)))\n",
    "    pitch_vector_test.extend([0] * (max_len - len(pitch_vector_test)))\n",
    "    \n",
    "    sim = spatial.distance.euclidean(pitch_vector_query, pitch_vector_test)\n",
    "    \n",
    "    return sim / len(pitch_vector_query)\n",
    "    # return sim / max_len"
   ]
  },
  {
   "cell_type": "code",
   "execution_count": 20,
   "metadata": {},
   "outputs": [],
   "source": [
    "def apply_threshold(val_x):\n",
    "    val_x *= 100\n",
    "    val_x = int(val_x)\n",
    "    val_x = round(val_x / 10)\n",
    "    return val_x / 10.0"
   ]
  },
  {
   "cell_type": "code",
   "execution_count": 21,
   "metadata": {},
   "outputs": [],
   "source": [
    "def get_mean_distance_for_song(song_id_query, with_threshold=False):\n",
    "    \n",
    "    # We initialize the mean difference across noises\n",
    "    diff_x_noises = []\n",
    "    \n",
    "    # Metric Values\n",
    "    metric_values = []\n",
    "    \n",
    "    # Difference per percentage\n",
    "    differences_per_percentage = []\n",
    "    \n",
    "    # We traverse the noises\n",
    "    for noise_type_i in noise_types:\n",
    "        # if (noise_type_i == 2):\n",
    "            # continue\n",
    "        \n",
    "        # We initialize the mean distance in the current noise\n",
    "        sorted_distance_mean_current_noise = 0\n",
    "        \n",
    "        # We save the similarities differences with the percentage\n",
    "        similarity_differences_for_mean = []\n",
    "        \n",
    "        # We save metric values per noise type\n",
    "        metric_values_per_noise = []\n",
    "        \n",
    "        # We save the values to sort accordingly their position\n",
    "        metric_values_to_sort_percentage = []\n",
    "        \n",
    "        # We traverse the percentages\n",
    "        max_value_in_percentages = -1\n",
    "        for noise_percentage_i in noise_percentages:\n",
    "            \n",
    "            melody_w_times_query = getMelodyDeltaTimes(\n",
    "                song_m21_streams[song_id_query][\"midi_tracks\"].tracks[0].events)\n",
    "            melody_w_times_test = getMelodyDeltaTimes(\n",
    "                song_m21_streams[song_id_query][\"midi_tracks\"].tracks[0].events)\n",
    "\n",
    "            melody_w_times_test = apply_ith_noise(noise_type_i, melody_w_times_test, noise_percentage_i)\n",
    "             \n",
    "            current_similarity = get_eclidean_from_melody_w_times(\n",
    "                    melody_w_times_query,\n",
    "                    melody_w_times_test)\n",
    "                      \n",
    "            if (with_threshold):\n",
    "                current_similarity = apply_threshold(current_similarity)\n",
    "            \n",
    "            if (current_similarity > max_value_in_percentages):\n",
    "                max_value_in_percentages = current_similarity\n",
    "            \n",
    "            metric_values_per_noise.append(current_similarity)\n",
    "            metric_values_to_sort_percentage.append(current_similarity)\n",
    "            \n",
    "        # Get Similarities differences\n",
    "        for nid, noise_percentage_i in enumerate(noise_percentages):\n",
    "            if (max_value_in_percentages > 0.0):\n",
    "                metric_values_to_sort_percentage[nid] /= max_value_in_percentages\n",
    "        for nid, noise_percentage_i in enumerate(noise_percentages):\n",
    "            noise_percentage_i /= 100.0\n",
    "            similarity_differences_for_mean.append(np.abs(metric_values_to_sort_percentage[nid] - noise_percentage_i))\n",
    "        \n",
    "        # Get the mean of the \n",
    "        similarity_difference_mean_current_noise = np.mean(similarity_differences_for_mean)\n",
    "        \n",
    "        # Save the differences per percentage\n",
    "        differences_per_percentage.append(similarity_differences_for_mean)\n",
    "        \n",
    "        # Save the metric values per percentage\n",
    "        metric_values.append(metric_values_per_noise)\n",
    "        \n",
    "        # We sum the distance for this noise\n",
    "        diff_x_noises.append(similarity_difference_mean_current_noise)\n",
    "    \n",
    "    # We return the mean distance per noise\n",
    "    return metric_values, differences_per_percentage, diff_x_noises"
   ]
  },
  {
   "cell_type": "code",
   "execution_count": 22,
   "metadata": {},
   "outputs": [
    {
     "name": "stdout",
     "output_type": "stream",
     "text": [
      "148.56648343418513\n"
     ]
    }
   ],
   "source": [
    "melody_w_times_query_gbl = getMelodyDeltaTimes(song_m21_streams['NLB072967_01'][\"midi_tracks\"].tracks[0].events)\n",
    "melody_w_times_test_gbl = getMelodyDeltaTimes(song_m21_streams['NLB072967_01'][\"midi_tracks\"].tracks[0].events)\n",
    "melody_w_times_test_gbl = apply_ith_noise(1, melody_w_times_test_gbl, 50)\n",
    "pitch_vector_query = [float(x[2]) for x in melody_w_times_query_gbl]\n",
    "pitch_vector_test = [float(x[2]) for x in melody_w_times_test_gbl]\n",
    "sim = spatial.distance.euclidean(pitch_vector_query, pitch_vector_test)\n",
    "max_len = float(max(len(pitch_vector_query), len(pitch_vector_test)))\n",
    "print(sim)"
   ]
  },
  {
   "cell_type": "markdown",
   "metadata": {},
   "source": [
    "## No Threshold"
   ]
  },
  {
   "cell_type": "code",
   "execution_count": 23,
   "metadata": {},
   "outputs": [
    {
     "name": "stdout",
     "output_type": "stream",
     "text": [
      "CPU times: user 3.4 s, sys: 8.03 ms, total: 3.41 s\n",
      "Wall time: 3.42 s\n"
     ]
    }
   ],
   "source": [
    "%%time\n",
    "# Define noise type array\n",
    "noise_types = [1, 2, 3, 4, 5]\n",
    "len_noise_types = len(noise_types)\n",
    "\n",
    "# Define the percentages of noise\n",
    "noise_percentages = list(map(int, np.linspace(10, 100, 10)))\n",
    "\n",
    "# TEST\n",
    "metric_values_no_thd, differences_per_percentage_no_thd, diff_x_noises_no_thd = get_mean_distance_for_song('NLB072967_01', False)"
   ]
  },
  {
   "cell_type": "code",
   "execution_count": 24,
   "metadata": {},
   "outputs": [
    {
     "name": "stdout",
     "output_type": "stream",
     "text": [
      "0.3137023823746755\n"
     ]
    }
   ],
   "source": [
    "print(np.mean(diff_x_noises_no_thd))"
   ]
  },
  {
   "cell_type": "markdown",
   "metadata": {},
   "source": [
    "## Graphs"
   ]
  },
  {
   "cell_type": "code",
   "execution_count": 25,
   "metadata": {},
   "outputs": [],
   "source": [
    "def autolabel(rects, ax):\n",
    "    \"\"\"Attach a text label above each bar in *rects*, displaying its height.\"\"\"\n",
    "    for rect in rects:\n",
    "        height = rect.get_height()\n",
    "        ax.annotate('{}'.format(round(height,3)),\n",
    "                    xy=(rect.get_x() + rect.get_width() / 2, height),\n",
    "                    xytext=(0, 3),  # 3 points vertical offset\n",
    "                    textcoords=\"offset points\",\n",
    "                    ha='center', va='bottom')"
   ]
  },
  {
   "cell_type": "code",
   "execution_count": 26,
   "metadata": {},
   "outputs": [],
   "source": [
    "def plot_conf_noises(metric_values_, differences_percentages_, diff_x_noises_):\n",
    "    fig, axs = plt.subplots(7, 1, figsize=(12, 6 * 7))\n",
    "    # print(differences_percentages_)\n",
    "    \n",
    "    # Graphs per noise type\n",
    "    for noise_i in range(len_noise_types):\n",
    "        axs_to_plot = axs[noise_i]\n",
    "        rects = axs_to_plot.bar(list(map(str, np.linspace(10, 100, 10))), differences_percentages_[noise_i])\n",
    "        autolabel(rects, axs_to_plot)\n",
    "        axs_to_plot.set_title(label=\"Noise #\" + str(noise_i + 1))\n",
    "    \n",
    "    # Graph mean per percentage across noises\n",
    "    grouped_percentage_values = []\n",
    "    for percentage in map(int, np.linspace(10, 100, 10)):\n",
    "        grouped_percentage_values.append([])\n",
    "        \n",
    "    for noise_i in range(len_noise_types):\n",
    "        perc_i = 0\n",
    "        for percentage in map(int, np.linspace(10, 100, 10)):\n",
    "            grouped_percentage_values[perc_i].append(differences_percentages_[noise_i][perc_i])\n",
    "            perc_i += 1\n",
    "    perc_i = 0\n",
    "    for percentage in map(int, np.linspace(10, 100, 10)):\n",
    "        grouped_percentage_values[perc_i] = np.mean(grouped_percentage_values[perc_i])\n",
    "        perc_i += 1\n",
    "        \n",
    "    axs_to_plot = axs[5]\n",
    "    rects = axs_to_plot.bar(list(map(str, np.linspace(10, 100, 10))), grouped_percentage_values, color=\"orange\")\n",
    "    autolabel(rects, axs_to_plot)\n",
    "    axs_to_plot.set_title(label=\"Mean Differences across all Noises\")\n",
    "    \n",
    "    # Graph with mean for each noise accross percentages\n",
    "    axs_to_plot = axs[6]\n",
    "    rects = axs_to_plot.bar(list(range(1,6)), list(map(np.mean, differences_percentages_)), color=\"red\")\n",
    "    autolabel(rects, axs_to_plot)\n",
    "    axs_to_plot.set_title(label=\"Mean Noise Difference\")\n",
    "        "
   ]
  },
  {
   "cell_type": "code",
   "execution_count": 27,
   "metadata": {},
   "outputs": [],
   "source": [
    "def get_mean_diff_vectors(differences_percentages_):\n",
    "    # Get Mean per percentage across noises\n",
    "    grouped_percentage_values = []\n",
    "    for percentage in map(int, np.linspace(10, 100, 10)):\n",
    "        grouped_percentage_values.append([])\n",
    "        \n",
    "    for noise_i in range(len_noise_types):\n",
    "        perc_i = 0\n",
    "        for percentage in map(int, np.linspace(10, 100, 10)):\n",
    "            grouped_percentage_values[perc_i].append(differences_percentages_[noise_i][perc_i])\n",
    "            perc_i += 1\n",
    "    perc_i = 0\n",
    "    for percentage in map(int, np.linspace(10, 100, 10)):\n",
    "        grouped_percentage_values[perc_i] = np.mean(grouped_percentage_values[perc_i])\n",
    "        perc_i += 1\n",
    "        \n",
    "    return grouped_percentage_values, list(map(np.mean, differences_percentages_))"
   ]
  },
  {
   "cell_type": "code",
   "execution_count": 28,
   "metadata": {},
   "outputs": [],
   "source": [
    "def plot_conf_best_noises(raw_calculations):\n",
    "    fig, axs = plt.subplots(2, 1, figsize=(12, 6 * 2))\n",
    "    differences_percentages_ = raw_calculations[1]\n",
    "    # Graph mean per percentage across noises\n",
    "    grouped_percentage_values = []\n",
    "    for percentage in map(int, np.linspace(10, 100, 10)):\n",
    "        grouped_percentage_values.append([])\n",
    "        \n",
    "    for noise_i in range(len_noise_types):\n",
    "        perc_i = 0\n",
    "        for percentage in map(int, np.linspace(10, 100, 10)):\n",
    "            grouped_percentage_values[perc_i].append(differences_percentages_[noise_i][perc_i])\n",
    "            perc_i += 1\n",
    "    perc_i = 0\n",
    "    for percentage in map(int, np.linspace(10, 100, 10)):\n",
    "        grouped_percentage_values[perc_i] = np.mean(grouped_percentage_values[perc_i])\n",
    "        perc_i += 1\n",
    "        \n",
    "    axs_to_plot = axs[0]\n",
    "    rects = axs_to_plot.bar(list(map(str, np.linspace(10, 100, 10))), grouped_percentage_values, color=\"orange\")\n",
    "    autolabel(rects, axs_to_plot)\n",
    "    axs_to_plot.set_title(label=\"Mean Differences across all Noises\")\n",
    "    \n",
    "    # Graph with mean for each noisea accross percentages\n",
    "    axs_to_plot = axs[1]\n",
    "    rects = axs_to_plot.bar(list(range(1,6)), list(map(np.mean, differences_percentages_)), color=\"red\")\n",
    "    autolabel(rects, axs_to_plot)\n",
    "    axs_to_plot.set_title(label=\"Mean Noise Difference\")"
   ]
  },
  {
   "cell_type": "markdown",
   "metadata": {},
   "source": [
    "## Experiment results"
   ]
  },
  {
   "cell_type": "code",
   "execution_count": 29,
   "metadata": {},
   "outputs": [
    {
     "name": "stdout",
     "output_type": "stream",
     "text": [
      "(0.14776184396414133, 0.1636309516267303, 0.30929753124376613)\n",
      "(0.0355322785648195, 0.0944058977643413, 0.30929753124376613)\n",
      "CPU times: user 3.42 s, sys: 36 µs, total: 3.42 s\n",
      "Wall time: 3.42 s\n"
     ]
    }
   ],
   "source": [
    "%%time\n",
    "\n",
    "mad_and_std_per_noise_and_percentage = {}\n",
    "\n",
    "metric_values_no_thd, differences_per_percentage_no_thd, diff_x_noises_no_thd = get_mean_distance_for_song('NLB072967_01', False)\n",
    "\n",
    "per_percentage_mean_diffs, per_noise_mean_diffs = get_mean_diff_vectors(differences_per_percentage_no_thd)\n",
    "mad_and_std_per_noise_and_percentage[\"noise\"] = (\n",
    "    stats.median_abs_deviation(per_noise_mean_diffs),\n",
    "    np.std(per_noise_mean_diffs, dtype=np.float64),\n",
    "    np.mean(per_noise_mean_diffs)\n",
    ")\n",
    "print(mad_and_std_per_noise_and_percentage[\"noise\"])\n",
    "mad_and_std_per_noise_and_percentage[\"percentage\"] = (\n",
    "    stats.median_abs_deviation(per_percentage_mean_diffs),\n",
    "    np.std(per_percentage_mean_diffs, dtype=np.float64),\n",
    "    np.mean(per_percentage_mean_diffs)\n",
    ")\n",
    "print(mad_and_std_per_noise_and_percentage[\"percentage\"])\n",
    "mad_and_std_per_noise_and_percentage[\"raw\"] = (\n",
    "    metric_values_no_thd,\n",
    "    differences_per_percentage_no_thd,\n",
    "    diff_x_noises_no_thd\n",
    ")"
   ]
  },
  {
   "cell_type": "code",
   "execution_count": 30,
   "metadata": {},
   "outputs": [
    {
     "data": {
      "image/png": "[encoded data removed]",
      "text/plain": [
       "<Figure size 864x864 with 2 Axes>"
      ]
     },
     "metadata": {
      "image/png": {
       "height": 698,
       "width": 706
      },
      "needs_background": "light"
     },
     "output_type": "display_data"
    }
   ],
   "source": [
    "plot_conf_best_noises(mad_and_std_per_noise_and_percentage[\"raw\"])"
   ]
  },
  {
   "cell_type": "code",
   "execution_count": null,
   "metadata": {},
   "outputs": [],
   "source": []
  }
 ],
 "metadata": {
  "kernelspec": {
   "display_name": "Python 3",
   "language": "python",
   "name": "python3"
  },
  "language_info": {
   "codemirror_mode": {
    "name": "ipython",
    "version": 3
   },
   "file_extension": ".py",
   "mimetype": "text/x-python",
   "name": "python",
   "nbconvert_exporter": "python",
   "pygments_lexer": "ipython3",
   "version": "3.7.8"
  }
 },
 "nbformat": 4,
 "nbformat_minor": 4
}
