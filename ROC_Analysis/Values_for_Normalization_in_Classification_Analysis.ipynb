{
 "cells": [
  {
   "cell_type": "code",
   "execution_count": 1,
   "metadata": {},
   "outputs": [],
   "source": [
    "import os\n",
    "import numpy as np\n",
    "import music21 as m21\n",
    "import pandas as pd\n",
    "import json\n",
    "import matplotlib.pyplot as plt\n",
    "from scipy import stats\n",
    "from scipy import spatial\n",
    "from scipy import interp\n",
    "import time\n",
    "from collections import Counter\n",
    "import math\n",
    "from sklearn.metrics import roc_curve, auc, precision_recall_curve, confusion_matrix\n",
    "from sklearn.preprocessing import label_binarize\n",
    "from itertools import cycle\n",
    "\n",
    "np.random.seed(777)\n",
    "\n",
    "DIV_CONST = 64\n",
    "TYPE_SCALE = 2\n",
    "# 0: 0 - 0.5\n",
    "# 1: 0.5 - 1\n",
    "# 2: 0 - 1"
   ]
  },
  {
   "cell_type": "markdown",
   "metadata": {},
   "source": [
    "# Functions"
   ]
  },
  {
   "cell_type": "markdown",
   "metadata": {},
   "source": [
    "## Get Binary ROC values"
   ]
  },
  {
   "cell_type": "code",
   "execution_count": 2,
   "metadata": {},
   "outputs": [],
   "source": [
    "def get_sim_after_threshold(input_sim_values, threshold_i):\n",
    "    result_list_mod = []\n",
    "    for sim_value_i in input_sim_values:\n",
    "        if (sim_value_i >= threshold_i):\n",
    "            result_list_mod.append(1)\n",
    "        else:\n",
    "            result_list_mod.append(0)\n",
    "    return result_list_mod"
   ]
  },
  {
   "cell_type": "code",
   "execution_count": 20,
   "metadata": {},
   "outputs": [],
   "source": [
    "def get_binary_ROC_values(scores_metric_and_experts_LOADED, flip_values=1.0, value_to_get=0, scale=0):\n",
    "    raw_scorelist_sim_measure_BI = []\n",
    "    raw_scorelist_sim_measure_majority_BI = []\n",
    "    raw_scorelist_sim_exp_1_BI = []\n",
    "    raw_scorelist_sim_exp_2_BI = []\n",
    "    raw_scorelist_sim_exp_3_BI = []\n",
    "    raw_scorelist_sim_exp_majority_BI = []\n",
    "    \n",
    "    flag_set = False\n",
    "    max_value_seen = 0\n",
    "    min_value_seen = 0\n",
    "    \n",
    "    for keyname_i in scores_metric_and_experts_LOADED.keys():\n",
    "        for el in scores_metric_and_experts_LOADED[keyname_i]:\n",
    "            \n",
    "            sim_score = el[0]\n",
    "            \n",
    "            if (not flag_set):\n",
    "                max_value_seen = sim_score\n",
    "                min_value_seen = sim_score\n",
    "                flag_set = True\n",
    "            \n",
    "            if (sim_score > max_value_seen):\n",
    "                max_value_seen = sim_score\n",
    "                \n",
    "            if (sim_score < min_value_seen):\n",
    "                min_value_seen = sim_score\n",
    "    max_value_seen = max_value_seen * flip_values\n",
    "    # print(\"++++++\")\n",
    "    # print(max_value_seen)\n",
    "    for keyname_i in scores_metric_and_experts_LOADED.keys():\n",
    "        for el in scores_metric_and_experts_LOADED[keyname_i]:\n",
    "            \n",
    "            \n",
    "            sim_score = (el[0] * flip_values) / max_value_seen\n",
    "            \n",
    "            if (flip_values == -1.0):\n",
    "                sim_score = 1.0 - sim_score\n",
    "            \n",
    "            # print(sim_score)\n",
    "            exp_score_1 = el[1]\n",
    "            exp_score_2 = el[2]\n",
    "            exp_score_3 = el[3]\n",
    "            \n",
    "            raw_scorelist_sim_measure_BI.append(sim_score)\n",
    "            raw_scorelist_sim_exp_1_BI.append(exp_score_1)\n",
    "            raw_scorelist_sim_exp_2_BI.append(exp_score_2)\n",
    "            raw_scorelist_sim_exp_3_BI.append(exp_score_3)\n",
    "\n",
    "            # majority\n",
    "            annotators_scores_count = dict(Counter([exp_score_1, exp_score_2, exp_score_3]))\n",
    "            (max_count, max_value) = max([ (annotators_scores_count[keyname_ann], keyname_ann) for keyname_ann in annotators_scores_count ])\n",
    "            \n",
    "            # Majority\n",
    "            # if max_count == 1:\n",
    "            #    continue\n",
    "            \n",
    "            # Unanimity\n",
    "            if max_count != 3:\n",
    "                continue\n",
    "            \n",
    "            raw_scorelist_sim_exp_majority_BI.append(max_value)\n",
    "            raw_scorelist_sim_measure_majority_BI.append(sim_score)\n",
    "    \n",
    "    \n",
    "    mesured_results = None\n",
    "    expert_results = None\n",
    "    if (value_to_get == 0): # Return Majority Vote\n",
    "        \n",
    "        expert_results = raw_scorelist_sim_exp_majority_BI \n",
    "        mesured_results = raw_scorelist_sim_measure_majority_BI\n",
    "        \n",
    "        \n",
    "    elif (value_to_get == 1): # Return Expert 1 Vote\n",
    "        \n",
    "        expert_results = raw_scorelist_sim_exp_1_BI \n",
    "        mesured_results = raw_scorelist_sim_measure_BI\n",
    "        \n",
    "    elif (value_to_get == 2): # Return Expert 2 Vote\n",
    "        \n",
    "        expert_results = raw_scorelist_sim_exp_2_BI\n",
    "        mesured_results = raw_scorelist_sim_measure_BI\n",
    "        \n",
    "    elif (value_to_get == 3): # Return Expert 3 Vote\n",
    "        \n",
    "        expert_results = raw_scorelist_sim_exp_3_BI\n",
    "        mesured_results = raw_scorelist_sim_measure_BI\n",
    "    \n",
    "    difference_in_results = {}\n",
    "    \n",
    "    for el_id in range(len(expert_results)):\n",
    "        if expert_results[el_id] not in difference_in_results:\n",
    "            difference_in_results[expert_results[el_id]] = []\n",
    "        difference_in_results[expert_results[el_id]].append(np.abs(expert_results[el_id] - mesured_results[el_id]))\n",
    "    \n",
    "    difference_in_results[\"mean\"] = np.array([])\n",
    "    for key_value_exp_i in list(difference_in_results.keys()):\n",
    "        difference_in_results[key_value_exp_i] = np.array(difference_in_results[key_value_exp_i])\n",
    "        difference_in_results[key_value_exp_i] = np.mean(difference_in_results[key_value_exp_i])\n",
    "        difference_in_results[\"mean\"] = np.append(difference_in_results[\"mean\"], difference_in_results[key_value_exp_i])\n",
    "    difference_in_results[\"mean\"] = np.mean(difference_in_results[\"mean\"])\n",
    "    return difference_in_results"
   ]
  },
  {
   "cell_type": "markdown",
   "metadata": {},
   "source": [
    "# READ RESULTS"
   ]
  },
  {
   "cell_type": "code",
   "execution_count": 21,
   "metadata": {},
   "outputs": [],
   "source": [
    "# Store for fpr, tpr, and auc\n",
    "store_roc_values = {}"
   ]
  },
  {
   "cell_type": "code",
   "execution_count": 22,
   "metadata": {},
   "outputs": [],
   "source": [
    "def print_score_results(store_roc_values_i):\n",
    "    print(store_roc_values_i)"
   ]
  },
  {
   "cell_type": "markdown",
   "metadata": {},
   "source": [
    "## RNA"
   ]
  },
  {
   "cell_type": "code",
   "execution_count": 23,
   "metadata": {},
   "outputs": [],
   "source": [
    "scores_metric_and_experts_AlRyNo = []\n",
    "with open('./ROC_AlRyNo/ROC_AlRyNo_1616808383.2642221.json') as json_file:\n",
    "    scores_metric_and_experts_AlRyNo = json.load(json_file)"
   ]
  },
  {
   "cell_type": "code",
   "execution_count": 24,
   "metadata": {},
   "outputs": [
    {
     "name": "stdout",
     "output_type": "stream",
     "text": [
      "{0.0: 0.40273658890958136, 1.0: 0.21585643100827465, 0.5: 0.22582871782043548, 'mean': 0.2814739125794305}\n"
     ]
    }
   ],
   "source": [
    "SIM_NAME = \"RNA\"\n",
    "store_roc_values[SIM_NAME] = get_binary_ROC_values(scores_metric_and_experts_AlRyNo, flip_values=1.0, value_to_get=0, scale=TYPE_SCALE)\n",
    "print_score_results(store_roc_values[SIM_NAME])"
   ]
  },
  {
   "cell_type": "markdown",
   "metadata": {},
   "source": [
    "## Euclidean Distance"
   ]
  },
  {
   "cell_type": "code",
   "execution_count": 25,
   "metadata": {},
   "outputs": [],
   "source": [
    "scores_metric_and_experts_ED = []\n",
    "with open('./ROC_ED/ROC_ED_1616776608.1142232.json') as json_file:\n",
    "    scores_metric_and_experts_ED = json.load(json_file)"
   ]
  },
  {
   "cell_type": "code",
   "execution_count": 26,
   "metadata": {},
   "outputs": [
    {
     "name": "stdout",
     "output_type": "stream",
     "text": [
      "{0.0: 0.20232332018279064, 1.0: 0.5907867693112524, 0.5: 0.21771633791923292, 'mean': 0.33694214247109194}\n"
     ]
    }
   ],
   "source": [
    "SIM_NAME = \"ED\"\n",
    "store_roc_values[SIM_NAME] = get_binary_ROC_values(scores_metric_and_experts_ED, flip_values=1.0, value_to_get=0, scale=TYPE_SCALE)\n",
    "print_score_results(store_roc_values[SIM_NAME])"
   ]
  },
  {
   "cell_type": "markdown",
   "metadata": {},
   "source": [
    "## City Block Distance"
   ]
  },
  {
   "cell_type": "code",
   "execution_count": 27,
   "metadata": {},
   "outputs": [],
   "source": [
    "scores_metric_and_experts_CBD = []\n",
    "with open('./ROC_CBD/ROC_CBD_1616777022.3399668.json') as json_file:\n",
    "    scores_metric_and_experts_CBD = json.load(json_file)"
   ]
  },
  {
   "cell_type": "code",
   "execution_count": 28,
   "metadata": {},
   "outputs": [
    {
     "name": "stdout",
     "output_type": "stream",
     "text": [
      "{0.0: 0.12517802466464414, 1.0: 0.6906584166153898, 0.5: 0.28522701966652597, 'mean': 0.3670211536488533}\n"
     ]
    }
   ],
   "source": [
    "SIM_NAME = \"CBD\"\n",
    "store_roc_values[SIM_NAME] = get_binary_ROC_values(scores_metric_and_experts_CBD, flip_values=1.0, value_to_get=0, scale=TYPE_SCALE)\n",
    "print_score_results(store_roc_values[SIM_NAME])"
   ]
  },
  {
   "cell_type": "markdown",
   "metadata": {},
   "source": [
    "## Correlation"
   ]
  },
  {
   "cell_type": "code",
   "execution_count": 29,
   "metadata": {},
   "outputs": [],
   "source": [
    "scores_metric_and_experts_CORR = []\n",
    "with open('./ROC_CORR/ROC_CORR_1616777242.431047.json') as json_file:\n",
    "    scores_metric_and_experts_CORR = json.load(json_file)"
   ]
  },
  {
   "cell_type": "code",
   "execution_count": 30,
   "metadata": {},
   "outputs": [
    {
     "name": "stdout",
     "output_type": "stream",
     "text": [
      "{0.0: 0.09715571747082646, 1.0: 0.7815352415921052, 0.5: 0.31343382792310076, 'mean': 0.39737492899534416}\n"
     ]
    }
   ],
   "source": [
    "SIM_NAME = \"CORR\"\n",
    "store_roc_values[SIM_NAME] = get_binary_ROC_values(scores_metric_and_experts_CORR, flip_values=1.0, value_to_get=0, scale=TYPE_SCALE)\n",
    "print_score_results(store_roc_values[SIM_NAME])"
   ]
  },
  {
   "cell_type": "markdown",
   "metadata": {},
   "source": [
    "## Local Alignment"
   ]
  },
  {
   "cell_type": "code",
   "execution_count": 31,
   "metadata": {},
   "outputs": [],
   "source": [
    "scores_metric_and_experts_LA = []\n",
    "with open('./ROC_LA/ROC_LA_1616779426.8688939.json') as json_file:\n",
    "    scores_metric_and_experts_LA = json.load(json_file)"
   ]
  },
  {
   "cell_type": "code",
   "execution_count": 32,
   "metadata": {},
   "outputs": [
    {
     "name": "stdout",
     "output_type": "stream",
     "text": [
      "{0.0: 0.6449660289074768, 1.0: 0.12618961341140122, 0.5: 0.33870946922759193, 'mean': 0.36995503718215667}\n"
     ]
    }
   ],
   "source": [
    "SIM_NAME = \"LA\"\n",
    "store_roc_values[SIM_NAME] = get_binary_ROC_values(scores_metric_and_experts_LA, flip_values=-1.0, value_to_get=0, scale=TYPE_SCALE)\n",
    "print_score_results(store_roc_values[SIM_NAME])"
   ]
  },
  {
   "cell_type": "markdown",
   "metadata": {},
   "source": [
    "## SIAM"
   ]
  },
  {
   "cell_type": "code",
   "execution_count": 33,
   "metadata": {},
   "outputs": [],
   "source": [
    "scores_metric_and_experts_SIAM = []\n",
    "with open('./ROC_SIAM/ROC_SIAM_1616781945.8996937.json') as json_file:\n",
    "    scores_metric_and_experts_SIAM = json.load(json_file)"
   ]
  },
  {
   "cell_type": "code",
   "execution_count": 34,
   "metadata": {},
   "outputs": [
    {
     "name": "stdout",
     "output_type": "stream",
     "text": [
      "{0.0: 0.22475195980880883, 1.0: 0.3342757362745407, 0.5: 0.15001341410316305, 'mean': 0.23634703672883753}\n"
     ]
    }
   ],
   "source": [
    "SIM_NAME = \"SIAM\"\n",
    "store_roc_values[SIM_NAME] = get_binary_ROC_values(scores_metric_and_experts_SIAM, flip_values=-1.0, value_to_get=0, scale=TYPE_SCALE)\n",
    "print_score_results(store_roc_values[SIM_NAME])"
   ]
  },
  {
   "cell_type": "markdown",
   "metadata": {},
   "source": [
    "## BSPLINE"
   ]
  },
  {
   "cell_type": "code",
   "execution_count": 35,
   "metadata": {},
   "outputs": [],
   "source": [
    "scores_metric_and_experts_BSPLINE = []\n",
    "with open('./ROC_BSPLINE/ROC_BSPLINE_1616799793.9739344.json') as json_file:\n",
    "    scores_metric_and_experts_BSPLINE = json.load(json_file)"
   ]
  },
  {
   "cell_type": "code",
   "execution_count": 36,
   "metadata": {},
   "outputs": [
    {
     "name": "stdout",
     "output_type": "stream",
     "text": [
      "{1.0: 0.14648344615066317, 0.0: 0.413554835134405, 0.5: 0.33438052651577893, 'mean': 0.2981396026002823}\n"
     ]
    }
   ],
   "source": [
    "SIM_NAME = \"BSPLINE\"\n",
    "store_roc_values[SIM_NAME] = get_binary_ROC_values(scores_metric_and_experts_BSPLINE, flip_values=-1.0, value_to_get=0, scale=TYPE_SCALE)\n",
    "print_score_results(store_roc_values[SIM_NAME])"
   ]
  },
  {
   "cell_type": "markdown",
   "metadata": {},
   "source": [
    "# DIFFERENCES PLOT"
   ]
  },
  {
   "cell_type": "code",
   "execution_count": 87,
   "metadata": {},
   "outputs": [
    {
     "data": {
      "image/png": "[encoded data removed]",
      "text/plain": [
       "<Figure size 720x432 with 1 Axes>"
      ]
     },
     "metadata": {
      "image/png": {
       "height": 423,
       "width": 712
      },
      "needs_background": "light"
     },
     "output_type": "display_data"
    }
   ],
   "source": [
    "measure_names = list(store_roc_values.keys())\n",
    "labels = list(store_roc_values[measure_names[0]].keys())\n",
    "x = np.arange(len(labels))  # the label locations\n",
    "width = 0.1  # the width of the bars\n",
    "\n",
    "fig, ax = plt.subplots(figsize=(10,6))\n",
    "\n",
    "rects = []\n",
    "cnt_i = 0\n",
    "for m_name in measure_names:\n",
    "    \n",
    "    values_to_plot = []\n",
    "    for label_i in labels:\n",
    "        values_to_plot.append(store_roc_values[m_name][label_i])\n",
    "    \n",
    "    rects.append(ax.bar(x + ((width/7) * cnt_i) , values_to_plot, width, label=m_name))\n",
    "    cnt_i += 8\n",
    "\n",
    "# Add some text for labels, title and custom x-axis tick labels, etc.\n",
    "ax.set_ylabel('Scores')\n",
    "ax.set_title('Scores by Tag and Measure')\n",
    "ax.set_xticks(x)\n",
    "ax.set_xticklabels(labels)\n",
    "ax.legend()\n",
    "\n",
    "\n",
    "def autolabel(rects):\n",
    "    \"\"\"Attach a text label above each bar in *rects*, displaying its height.\"\"\"\n",
    "    for rect in rects:\n",
    "        height = rect.get_height()\n",
    "        ax.annotate('{:.2f}'.format(height),\n",
    "                    xy=(rect.get_x() + rect.get_width() / 2, height),\n",
    "                    xytext=(0, 3),  # 3 points vertical offset\n",
    "                    textcoords=\"offset points\",\n",
    "                    ha='center', va='bottom')\n",
    "\n",
    "\n",
    "for rect_i in rects:\n",
    "    autolabel(rect_i)\n",
    "\n",
    "\n",
    "fig.tight_layout()\n",
    "\n",
    "plt.show()"
   ]
  },
  {
   "cell_type": "code",
   "execution_count": 94,
   "metadata": {},
   "outputs": [
    {
     "name": "stdout",
     "output_type": "stream",
     "text": [
      "RNA:['0.4027', '0.2159', '0.2258', '0.2815']\n",
      "ED:['0.2023', '0.5908', '0.2177', '0.3369']\n",
      "CBD:['0.1252', '0.6907', '0.2852', '0.3670']\n",
      "CORR:['0.0972', '0.7815', '0.3134', '0.3974']\n",
      "LA:['0.6450', '0.1262', '0.3387', '0.3700']\n",
      "SIAM:['0.2248', '0.3343', '0.1500', '0.2363']\n",
      "BSPLINE:['0.4136', '0.1465', '0.3344', '0.2981']\n"
     ]
    }
   ],
   "source": [
    "for m_name in measure_names:\n",
    "    values_to_plot = []\n",
    "    for label_i in labels:\n",
    "        values_to_plot.append(\"{0:.4f}\".format(store_roc_values[m_name][label_i]))\n",
    "    print(\"{0}:{1}\".format(m_name, values_to_plot))"
   ]
  },
  {
   "cell_type": "code",
   "execution_count": null,
   "metadata": {},
   "outputs": [],
   "source": []
  }
 ],
 "metadata": {
  "kernelspec": {
   "display_name": "Python 3",
   "language": "python",
   "name": "python3"
  },
  "language_info": {
   "codemirror_mode": {
    "name": "ipython",
    "version": 3
   },
   "file_extension": ".py",
   "mimetype": "text/x-python",
   "name": "python",
   "nbconvert_exporter": "python",
   "pygments_lexer": "ipython3",
   "version": "3.7.8"
  }
 },
 "nbformat": 4,
 "nbformat_minor": 4
}
